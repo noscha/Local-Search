{
 "cells": [
  {
   "cell_type": "markdown",
   "metadata": {
    "id": "9N6s6XIZVSkH"
   },
   "source": [
    "# 2. Programmierprojekt: Local Search"
   ]
  },
  {
   "cell_type": "markdown",
   "metadata": {
    "id": "qq0RVgzqwCdv"
   },
   "source": [
    "## $n$-Damen Problem\n",
    "\n",
    "Wir modellieren das $n$-Damen Problem wie folgt: Jeder Zustand im Suchraum ist eine Permutation des Vektors $(0, \\dotsc, n-1)$. Damit sind die Aktionen die von einem Zustand möglich sind Vertauschungen von Zahlen."
   ]
  },
  {
   "cell_type": "code",
   "execution_count": 6,
   "metadata": {
    "ExecuteTime": {
     "end_time": "2024-05-23T14:28:29.412608Z",
     "start_time": "2024-05-23T14:28:29.402466Z"
    },
    "id": "3R_stlYHxPXb"
   },
   "outputs": [],
   "source": [
    "import random\n",
    "\n",
    "def generate_random_conf(n: int) -> list:\n",
    "  # Generate random permutation of (0,...,n-1)\n",
    "  conf = [i for i in range(n)]\n",
    "  random.shuffle(conf)\n",
    "  return conf\n",
    "\n",
    "def swap(conf, i, j):\n",
    "  # Swap positions i,j inplace\n",
    "  conf[i], conf[j] = conf[j], conf[i]"
   ]
  },
  {
   "cell_type": "code",
   "execution_count": 2,
   "metadata": {
    "ExecuteTime": {
     "end_time": "2024-05-23T12:27:19.477149Z",
     "start_time": "2024-05-23T12:27:19.446170Z"
    },
    "colab": {
     "base_uri": "https://localhost:8080/"
    },
    "id": "Iw8mVsBDx4O-",
    "outputId": "09cb386c-523a-4ec4-c638-e714ea97d494"
   },
   "outputs": [
    {
     "data": {
      "text/plain": [
       "[0, 5, 1, 4, 2, 3, 7, 6]"
      ]
     },
     "execution_count": 2,
     "metadata": {},
     "output_type": "execute_result"
    }
   ],
   "source": [
    "conf = generate_random_conf(8)\n",
    "swap(conf, 3, 5)\n",
    "conf"
   ]
  },
  {
   "cell_type": "markdown",
   "metadata": {
    "id": "FHMpvoKnyN3S"
   },
   "source": [
    "Implentieren Sie die folgende Funktion `conflicts`, welche für jede Dame die Anzahl der Bedrohungen aufsummiert. Überlegen Sie, welche Art von Bedrohungen durch die Modellierung überhaupt möglich sind."
   ]
  },
  {
   "cell_type": "code",
   "execution_count": 3,
   "metadata": {
    "ExecuteTime": {
     "end_time": "2024-05-23T14:28:31.943145Z",
     "start_time": "2024-05-23T14:28:31.935348Z"
    },
    "id": "1S6sWRomybnI"
   },
   "outputs": [],
   "source": [
    "def conflicts(queens) -> int:\n",
    "  \"\"\" Heuristic that indicates number of beatable queens on the right\"\"\"\n",
    "  \n",
    "  conflicts = 0\n",
    "  for i in range(len(queens)):\n",
    "    # For better initialization\n",
    "    if queens[i] == float(\"-inf\"):\n",
    "        continue\n",
    "    for j in range(i + 1, len(queens)):\n",
    "        conflicts += int(queens[i] == queens[j] or queens[i] + j - i == queens[j] or queens[i] - j + i == queens[j])\n",
    "  return conflicts"
   ]
  },
  {
   "cell_type": "code",
   "execution_count": 4,
   "metadata": {
    "ExecuteTime": {
     "end_time": "2024-05-23T12:27:20.116726Z",
     "start_time": "2024-05-23T12:27:20.102180Z"
    },
    "id": "nhFg6sZTXl5p"
   },
   "outputs": [],
   "source": [
    "conf1 = [0, 1, 2, 3, 4, 5, 6, 7] # conflicts = 28\n",
    "conf2 = [17, 22, 11, 5, 2, 6, 12, 15, 21, 19, 10, 8, 0, 3, 1, 20, 23, 9, 14, 18, 13, 24, 16, 4, 7] # conflicts = 0\n",
    "conf3 = [15, 12, 9, 16, 0, 18, 6, 11, 19, 7, 13, 3, 10, 4, 1, 2, 8, 5, 14, 17] # conflicts = 12\n",
    "\n",
    "\n",
    "assert conflicts(conf1) == 28\n",
    "assert conflicts(conf2) == 0\n",
    "assert conflicts(conf3) == 12"
   ]
  },
  {
   "cell_type": "markdown",
   "metadata": {
    "id": "u-yjM-kIz8Qr"
   },
   "source": [
    "Nutzen sie die obige Funktion als Heuristik für den A*-Algorithmus. Testen sie bis zu welchem $n$ der Algorithmus eine Lösung in unter zwei Minuten findet. Starten Sie dabei immer von einer zufälligen Startkonfiguration."
   ]
  },
  {
   "cell_type": "code",
   "execution_count": 5,
   "metadata": {
    "ExecuteTime": {
     "end_time": "2024-05-23T13:19:36.844451Z",
     "start_time": "2024-05-23T13:18:34.054963Z"
    },
    "id": "6yeRq0gn0gjM"
   },
   "outputs": [],
   "source": [
    "from queue import PriorityQueue\n",
    "\n",
    "\n",
    "def queens_a_star(n: int) -> list[int]:\n",
    "    \"\"\" Find solution with A*; not feasible for n >= 50 \"\"\"\n",
    "    \n",
    "    conf = generate_random_conf(n)\n",
    "    \n",
    "    queue = PriorityQueue()\n",
    "    # stores f, h, g, configuration\n",
    "    queue.put((conflicts(conf), conflicts(conf), 0, conf))\n",
    "    visited = []\n",
    "    \n",
    "    while not queue.empty():\n",
    "        entry = queue.get()\n",
    "        g_score, state = entry[2], entry[3]\n",
    "        visited.append(state)\n",
    "\n",
    "        for successor in successors_astar(state):\n",
    "            if not conflicts(successor):\n",
    "                return successor\n",
    "            if successor in visited:\n",
    "                continue\n",
    "                \n",
    "            new_g_score = g_score + 1\n",
    "            h = conflicts(successor)\n",
    "            f_score = h + new_g_score\n",
    "            queue.put((f_score, h, new_g_score, successor))\n",
    "            visited.append(successor)\n",
    "\n",
    "    return [-1]\n",
    "\n",
    "\n",
    "def successors_astar(queens) -> list[list[int]]:\n",
    "    \"\"\" Returns list of successor states; action is swapping \"\"\"\n",
    "    successors = []\n",
    "    for i in range(len(queens)):\n",
    "        for j in range(len(queens)):\n",
    "            if i == j:\n",
    "                continue\n",
    "            copy = queens.copy()\n",
    "            swap(copy, i, j)\n",
    "            successors.append(copy)\n",
    "    return successors\n",
    "    "
   ]
  },
  {
   "cell_type": "markdown",
   "metadata": {
    "id": "kfMTbo_l1_Pp"
   },
   "source": [
    "Wir wollen im Folgenden einen Local-Search Ansatz nutzen, um das Problem zu lösen. Implementieren Sie nun den Hill-Climbing Algorithmus aus der Vorlesung. Der Algorithmus sollte zusätzlich maximal $k$ Seitwärtszüge erlauben."
   ]
  },
  {
   "cell_type": "code",
   "execution_count": 6,
   "metadata": {
    "ExecuteTime": {
     "end_time": "2024-05-23T14:28:46.740845Z",
     "start_time": "2024-05-23T14:28:46.727987Z"
    },
    "id": "pDdm-hqb2Wpb"
   },
   "outputs": [],
   "source": [
    "def queens_hill_climb(n, k=0) -> tuple[list[int], int]:\n",
    "    return hill_climb_core(generate_random_conf(n), k)\n",
    "  \n",
    "def hill_climb_core(conf, k=0) -> tuple[list[int], int]:\n",
    "    \"\"\" Searches solution by hill-climbing; k: possible side steps \"\"\"  \n",
    "    conflicts_amount = conflicts(conf)\n",
    "    improvement, side_steps = 1, 0\n",
    "    visited = []\n",
    "  \n",
    "    while side_steps <= k  and conflicts_amount != 0:\n",
    "        visited.append(conf)\n",
    "        new_conf, new_conflict_amount = successors(conf, visited)\n",
    "      \n",
    "        improvement = conflicts_amount - new_conflict_amount\n",
    "      \n",
    "        if improvement:\n",
    "            side_steps = 0\n",
    "        else:\n",
    "            side_steps += 1\n",
    "          \n",
    "        conf, conflicts_amount = new_conf, new_conflict_amount\n",
    "      \n",
    "    return conf, conflicts(conf)\n",
    "\n",
    "\n",
    "def successors(queens, visited) -> list[list[int]]:\n",
    "    \"\"\" Returns best successor\"\"\"\n",
    "    best_successor = (queens, conflicts(queens))\n",
    "    for i in range(len(queens)):\n",
    "        for j in range(len(queens)):\n",
    "            if i == j:\n",
    "                continue\n",
    "            copy = queens.copy()\n",
    "            swap(copy, i, j)\n",
    "            best_successor = (copy, conflicts(copy)) if (conflicts(copy) <= best_successor[1] and copy not in visited) else best_successor\n",
    "    return best_successor\n"
   ]
  },
  {
   "cell_type": "markdown",
   "metadata": {
    "id": "-5hK4u0O2-Nl"
   },
   "source": [
    "Evaluieren Sie den Algorithmus empirisch. Testen sie für verschiedene $n$ und $k$, wie groß die Erfolgsrate des Algorithmus ist. Überlegen Sie sich eine geeignete Visualisierung ihrer Ergebnisse."
   ]
  },
  {
   "cell_type": "code",
   "execution_count": 30,
   "metadata": {
    "ExecuteTime": {
     "end_time": "2024-05-23T13:25:45.410761Z",
     "start_time": "2024-05-23T13:25:34.221634Z"
    },
    "id": "tCE0RmxS3WI5"
   },
   "outputs": [
    {
     "name": "stdout",
     "output_type": "stream",
     "text": [
      "Success rate for k= 0 : 16.666666666666664%\n",
      "Success rate for k= 5 : 91.66666666666666%\n",
      "Success rate for k= 10 : 91.66666666666666%\n",
      "Success rate for k= 20 : 83.33333333333334%\n",
      "Success rate for k= 50 : 75.0%\n",
      "Success rate for k= 100 : 91.66666666666666%\n",
      "Overall success rate: 75.0%\n"
     ]
    }
   ],
   "source": [
    "n_samples = 200\n",
    "k = [0, 5, 10, 20, 50, 100]\n",
    "\n",
    "total_amount, total_hits = 0, 0\n",
    "for i in k:\n",
    "    amount, hits = 0, 0\n",
    "    for n in range(8, n_samples):\n",
    "        amount += 1\n",
    "        hits += int(not queens_hill_climb(n, i)[1])\n",
    "    print(\"Success rate for k= \" + str(i) + \" : \" + str((hits / amount) * 100) +\"%\")\n",
    "    total_amount += amount\n",
    "    total_hits += hits\n",
    "print(\"Overall success rate: \" + str((total_hits / total_amount) * 100) +\"%\")"
   ]
  },
  {
   "cell_type": "markdown",
   "metadata": {
    "id": "BBOnIDEk4dv_"
   },
   "source": [
    "Implementieren sie nun Hill-Climbing mit Random-Restarts, um immer optimale Lösungen zu finden. Berechnen Sie auch, wie viele Restarts nötig waren, um eine optimale Lösung zu finden. Bis zu welchem $n$ können sie mit diesem Ansatz in weniger als zwei Minuten Lösungen finden? (Probieren sie auch verschiedene $k$)"
   ]
  },
  {
   "cell_type": "code",
   "execution_count": 7,
   "metadata": {
    "ExecuteTime": {
     "end_time": "2024-05-23T13:24:07.825668Z",
     "start_time": "2024-05-23T13:19:36.847824Z"
    },
    "id": "GBPlFDaXAtoM"
   },
   "outputs": [],
   "source": [
    "def queens_random_restart(n, k=0) -> tuple[list[int], int]:\n",
    "    \"\"\" Restart hill climbing till solution is found; not feasible for n >= 65   \"\"\"\n",
    "    restart = 0\n",
    "    conf, conflict_amount = queens_hill_climb(n, k)\n",
    "    while conflict_amount:\n",
    "        restart += 1\n",
    "        conf, conflict_amount = queens_hill_climb(n, k)\n",
    "    return conf, restart"
   ]
  },
  {
   "cell_type": "markdown",
   "metadata": {
    "id": "DZTWMO4DVhWQ"
   },
   "source": [
    "Eine weitere Verbesserung kann erreicht werden, in dem die initiale Konfiguration nicht rein zufällig gewählt wird. Es kann versucht werden, anfangs eine Konfiguration zu finden, in der möglichst viele Damen bereits konfliktfrei gesetzt sind. Die restlichen Damen sollten dann mit möglichst wenigen Konflikten gesetzt werden.\n",
    "\n",
    "Implementieren Sie darauf basierend einen verbesserten Generator für die Startkonfiguration und testen Sie, ob damit noch größere Probleminstanzen gelöst werden können."
   ]
  },
  {
   "cell_type": "code",
   "execution_count": 17,
   "metadata": {
    "ExecuteTime": {
     "end_time": "2024-05-23T14:30:23.545734Z",
     "start_time": "2024-05-23T14:30:23.514554Z"
    }
   },
   "outputs": [
    {
     "name": "stdout",
     "output_type": "stream",
     "text": [
      "[7, 19, 17, 15, 18, 16, 11, 9, 6, 4, 14, 12, 3, 13, 0, 1, 2, 5, 8, 10] 9\n",
      "([7, 19, 10, 15, 1, 16, 11, 9, 2, 4, 14, 12, 3, 13, 0, 18, 6, 5, 17, 8], 1)\n",
      "\n",
      "\n",
      "([19, 6, 13, 3, 16, 18, 8, 10, 17, 2, 14, 1, 4, 9, 15, 12, 5, 11, 0, 7], 0)\n"
     ]
    }
   ],
   "source": [
    "from random import randrange\n",
    "import numpy as np\n",
    "\n",
    "\n",
    "def better_initial_configuration(n: int, k=0) -> tuple[list[int], int]:\n",
    "    \"\"\" Initialize conf with minimal conflicts \"\"\"\n",
    "    conf = [float(\"-inf\")] * n\n",
    "    a = np.zero(n, n)\n",
    "    possible_queens = [i for i in range(n)]\n",
    "    conf[0] = possible_queens.pop(randrange(n))\n",
    "    for i in range(1, n):\n",
    "        copy = conf.copy()\n",
    "        min_conflicts = possible_queens[0], 0 # index, conflicts_amount\n",
    "\n",
    "        \n",
    "        for j in possible_queens:\n",
    "            copy[i] = j\n",
    "            if conflicts(copy) <= min_conflicts[1]:\n",
    "                min_conflicts = j, conflicts(copy)\n",
    "\n",
    "        \n",
    "        conf[i] = min_conflicts[0]\n",
    "        possible_queens.remove(conf[i])\n",
    "    print(conf, conflicts(conf))\n",
    "    return hill_climb_core(conf, k)\n",
    "    \n",
    "\n",
    "print(better_initial_configuration(20))\n",
    "print(\"\\n\")\n",
    "print(queens_hill_climb(20))"
   ]
  },
  {
   "cell_type": "code",
   "execution_count": 18,
   "metadata": {
    "ExecuteTime": {
     "end_time": "2024-05-23T14:12:34.867590Z",
     "start_time": "2024-05-23T14:12:32.256715Z"
    }
   },
   "outputs": [
    {
     "name": "stdout",
     "output_type": "stream",
     "text": [
      "[2, 7, 5, 3, 1, 6, 4, 0] 1\n",
      "[2, 8, 6, 4, 7, 5, 0, 1, 3] 3\n",
      "[8, 6, 9, 7, 5, 1, 0, 2, 3, 4] 6\n",
      "[6, 10, 7, 5, 8, 2, 9, 3, 0, 1, 4] 3\n",
      "[6, 11, 9, 7, 5, 10, 8, 1, 0, 2, 3, 4] 6\n",
      "[1, 12, 10, 8, 11, 9, 4, 2, 0, 3, 5, 6, 7] 8\n",
      "[6, 13, 11, 8, 12, 7, 9, 3, 1, 10, 0, 2, 4, 5] 4\n",
      "[5, 14, 12, 10, 13, 11, 6, 4, 2, 0, 9, 7, 1, 3, 8] 3\n",
      "[0, 15, 13, 11, 14, 12, 7, 5, 3, 1, 9, 2, 4, 6, 8, 10] 5\n",
      "[7, 16, 14, 12, 15, 13, 8, 6, 4, 2, 11, 9, 0, 1, 3, 5, 10] 5\n",
      "[0, 17, 15, 13, 16, 14, 9, 6, 4, 2, 12, 3, 1, 5, 7, 8, 10, 11] 7\n",
      "[15, 18, 16, 14, 17, 11, 8, 6, 12, 3, 13, 0, 10, 1, 2, 4, 5, 7, 9] 8\n",
      "[11, 19, 17, 15, 18, 12, 10, 16, 13, 6, 4, 14, 1, 0, 2, 3, 5, 7, 8, 9] 9\n",
      "[1, 20, 18, 16, 19, 17, 12, 10, 8, 6, 15, 13, 2, 0, 3, 4, 5, 7, 9, 11, 14] 8\n",
      "[5, 21, 19, 17, 20, 18, 13, 11, 9, 7, 16, 14, 3, 15, 0, 12, 1, 2, 4, 6, 8, 10] 7\n",
      "[18, 22, 19, 17, 20, 14, 21, 15, 9, 16, 6, 4, 2, 13, 0, 1, 3, 5, 7, 8, 10, 11, 12] 14\n",
      "[17, 23, 21, 19, 22, 20, 15, 13, 11, 9, 18, 16, 4, 2, 0, 14, 1, 3, 5, 6, 7, 8, 10, 12] 14\n",
      "[5, 24, 22, 20, 23, 21, 16, 14, 12, 10, 19, 17, 6, 4, 2, 18, 15, 13, 0, 1, 3, 7, 8, 9, 11] 9\n",
      "[21, 25, 22, 20, 23, 17, 24, 18, 12, 19, 9, 7, 5, 16, 2, 0, 1, 3, 4, 6, 8, 10, 11, 13, 14, 15] 12\n",
      "[1, 26, 24, 22, 25, 23, 18, 16, 14, 12, 21, 19, 8, 20, 5, 17, 2, 0, 3, 4, 6, 7, 9, 10, 11, 13, 15] 13\n"
     ]
    },
    {
     "ename": "KeyboardInterrupt",
     "evalue": "",
     "output_type": "error",
     "traceback": [
      "\u001b[0;31m---------------------------------------------------------------------------\u001b[0m",
      "\u001b[0;31mKeyboardInterrupt\u001b[0m                         Traceback (most recent call last)",
      "Cell \u001b[0;32mIn[18], line 9\u001b[0m\n\u001b[1;32m      7\u001b[0m \u001b[38;5;28;01mfor\u001b[39;00m n \u001b[38;5;129;01min\u001b[39;00m \u001b[38;5;28mrange\u001b[39m(\u001b[38;5;241m8\u001b[39m, n_samples):\n\u001b[1;32m      8\u001b[0m     amount \u001b[38;5;241m+\u001b[39m\u001b[38;5;241m=\u001b[39m \u001b[38;5;241m1\u001b[39m\n\u001b[0;32m----> 9\u001b[0m     hits \u001b[38;5;241m+\u001b[39m\u001b[38;5;241m=\u001b[39m \u001b[38;5;28mint\u001b[39m(\u001b[38;5;129;01mnot\u001b[39;00m \u001b[43mbetter_initial_configuration\u001b[49m\u001b[43m(\u001b[49m\u001b[43mn\u001b[49m\u001b[43m,\u001b[49m\u001b[43m \u001b[49m\u001b[43mi\u001b[49m\u001b[43m)\u001b[49m[\u001b[38;5;241m1\u001b[39m])\n\u001b[1;32m     10\u001b[0m \u001b[38;5;28mprint\u001b[39m(\u001b[38;5;124m\"\u001b[39m\u001b[38;5;124mSuccess rate for k= \u001b[39m\u001b[38;5;124m\"\u001b[39m \u001b[38;5;241m+\u001b[39m \u001b[38;5;28mstr\u001b[39m(i) \u001b[38;5;241m+\u001b[39m \u001b[38;5;124m\"\u001b[39m\u001b[38;5;124m : \u001b[39m\u001b[38;5;124m\"\u001b[39m \u001b[38;5;241m+\u001b[39m \u001b[38;5;28mstr\u001b[39m((hits \u001b[38;5;241m/\u001b[39m amount) \u001b[38;5;241m*\u001b[39m \u001b[38;5;241m100\u001b[39m) \u001b[38;5;241m+\u001b[39m\u001b[38;5;124m\"\u001b[39m\u001b[38;5;124m%\u001b[39m\u001b[38;5;124m\"\u001b[39m)\n\u001b[1;32m     11\u001b[0m total_amount \u001b[38;5;241m+\u001b[39m\u001b[38;5;241m=\u001b[39m amount\n",
      "Cell \u001b[0;32mIn[17], line 19\u001b[0m, in \u001b[0;36mbetter_initial_configuration\u001b[0;34m(n, k)\u001b[0m\n\u001b[1;32m     17\u001b[0m     possible_queens\u001b[38;5;241m.\u001b[39mremove(conf[i])\n\u001b[1;32m     18\u001b[0m \u001b[38;5;28mprint\u001b[39m(conf, conflicts(conf))\n\u001b[0;32m---> 19\u001b[0m \u001b[38;5;28;01mreturn\u001b[39;00m \u001b[43mhill_climb_core\u001b[49m\u001b[43m(\u001b[49m\u001b[43mconf\u001b[49m\u001b[43m,\u001b[49m\u001b[43m \u001b[49m\u001b[43mk\u001b[49m\u001b[43m)\u001b[49m\n",
      "Cell \u001b[0;32mIn[6], line 12\u001b[0m, in \u001b[0;36mhill_climb_core\u001b[0;34m(conf, k)\u001b[0m\n\u001b[1;32m     10\u001b[0m \u001b[38;5;28;01mwhile\u001b[39;00m side_steps \u001b[38;5;241m<\u001b[39m\u001b[38;5;241m=\u001b[39m k  \u001b[38;5;129;01mand\u001b[39;00m conflicts_amount \u001b[38;5;241m!=\u001b[39m \u001b[38;5;241m0\u001b[39m:\n\u001b[1;32m     11\u001b[0m     visited\u001b[38;5;241m.\u001b[39mappend(conf)\n\u001b[0;32m---> 12\u001b[0m     new_conf, new_conflict_amount \u001b[38;5;241m=\u001b[39m \u001b[43msuccessors\u001b[49m\u001b[43m(\u001b[49m\u001b[43mconf\u001b[49m\u001b[43m,\u001b[49m\u001b[43m \u001b[49m\u001b[43mvisited\u001b[49m\u001b[43m)\u001b[49m\n\u001b[1;32m     14\u001b[0m     improvement \u001b[38;5;241m=\u001b[39m conflicts_amount \u001b[38;5;241m-\u001b[39m new_conflict_amount\n\u001b[1;32m     16\u001b[0m     \u001b[38;5;28;01mif\u001b[39;00m improvement:\n",
      "Cell \u001b[0;32mIn[6], line 35\u001b[0m, in \u001b[0;36msuccessors\u001b[0;34m(queens, visited)\u001b[0m\n\u001b[1;32m     33\u001b[0m         copy \u001b[38;5;241m=\u001b[39m queens\u001b[38;5;241m.\u001b[39mcopy()\n\u001b[1;32m     34\u001b[0m         swap(copy, i, j)\n\u001b[0;32m---> 35\u001b[0m         best_successor \u001b[38;5;241m=\u001b[39m (copy, conflicts(copy)) \u001b[38;5;28;01mif\u001b[39;00m (\u001b[43mconflicts\u001b[49m\u001b[43m(\u001b[49m\u001b[43mcopy\u001b[49m\u001b[43m)\u001b[49m \u001b[38;5;241m<\u001b[39m\u001b[38;5;241m=\u001b[39m best_successor[\u001b[38;5;241m1\u001b[39m] \u001b[38;5;129;01mand\u001b[39;00m copy \u001b[38;5;129;01mnot\u001b[39;00m \u001b[38;5;129;01min\u001b[39;00m visited) \u001b[38;5;28;01melse\u001b[39;00m best_successor\n\u001b[1;32m     36\u001b[0m \u001b[38;5;28;01mreturn\u001b[39;00m best_successor\n",
      "Cell \u001b[0;32mIn[3], line 10\u001b[0m, in \u001b[0;36mconflicts\u001b[0;34m(queens)\u001b[0m\n\u001b[1;32m      8\u001b[0m       \u001b[38;5;28;01mcontinue\u001b[39;00m\n\u001b[1;32m      9\u001b[0m   \u001b[38;5;28;01mfor\u001b[39;00m j \u001b[38;5;129;01min\u001b[39;00m \u001b[38;5;28mrange\u001b[39m(i \u001b[38;5;241m+\u001b[39m \u001b[38;5;241m1\u001b[39m, \u001b[38;5;28mlen\u001b[39m(queens)):\n\u001b[0;32m---> 10\u001b[0m       conflicts \u001b[38;5;241m+\u001b[39m\u001b[38;5;241m=\u001b[39m \u001b[38;5;28;43mint\u001b[39;49m\u001b[43m(\u001b[49m\u001b[43mqueens\u001b[49m\u001b[43m[\u001b[49m\u001b[43mi\u001b[49m\u001b[43m]\u001b[49m\u001b[43m \u001b[49m\u001b[38;5;241;43m==\u001b[39;49m\u001b[43m \u001b[49m\u001b[43mqueens\u001b[49m\u001b[43m[\u001b[49m\u001b[43mj\u001b[49m\u001b[43m]\u001b[49m\u001b[43m \u001b[49m\u001b[38;5;129;43;01mor\u001b[39;49;00m\u001b[43m \u001b[49m\u001b[43mqueens\u001b[49m\u001b[43m[\u001b[49m\u001b[43mi\u001b[49m\u001b[43m]\u001b[49m\u001b[43m \u001b[49m\u001b[38;5;241;43m+\u001b[39;49m\u001b[43m \u001b[49m\u001b[43mj\u001b[49m\u001b[43m \u001b[49m\u001b[38;5;241;43m-\u001b[39;49m\u001b[43m \u001b[49m\u001b[43mi\u001b[49m\u001b[43m \u001b[49m\u001b[38;5;241;43m==\u001b[39;49m\u001b[43m \u001b[49m\u001b[43mqueens\u001b[49m\u001b[43m[\u001b[49m\u001b[43mj\u001b[49m\u001b[43m]\u001b[49m\u001b[43m \u001b[49m\u001b[38;5;129;43;01mor\u001b[39;49;00m\u001b[43m \u001b[49m\u001b[43mqueens\u001b[49m\u001b[43m[\u001b[49m\u001b[43mi\u001b[49m\u001b[43m]\u001b[49m\u001b[43m \u001b[49m\u001b[38;5;241;43m-\u001b[39;49m\u001b[43m \u001b[49m\u001b[43mj\u001b[49m\u001b[43m \u001b[49m\u001b[38;5;241;43m+\u001b[39;49m\u001b[43m \u001b[49m\u001b[43mi\u001b[49m\u001b[43m \u001b[49m\u001b[38;5;241;43m==\u001b[39;49m\u001b[43m \u001b[49m\u001b[43mqueens\u001b[49m\u001b[43m[\u001b[49m\u001b[43mj\u001b[49m\u001b[43m]\u001b[49m\u001b[43m)\u001b[49m\n\u001b[1;32m     11\u001b[0m \u001b[38;5;28;01mreturn\u001b[39;00m conflicts\n",
      "\u001b[0;31mKeyboardInterrupt\u001b[0m: "
     ]
    }
   ],
   "source": [
    "n_samples = 200\n",
    "k = [0, 5, 10, 20, 50, 100]\n",
    "\n",
    "total_amount, total_hits = 0, 0\n",
    "for i in k:\n",
    "    amount, hits = 0, 0\n",
    "    for n in range(8, n_samples):\n",
    "        amount += 1\n",
    "        hits += int(not better_initial_configuration(n, i)[1])\n",
    "    print(\"Success rate for k= \" + str(i) + \" : \" + str((hits / amount) * 100) +\"%\")\n",
    "    total_amount += amount\n",
    "    total_hits += hits\n",
    "print(\"Overall success rate: \" + str((total_hits / total_amount) * 100) +\"%\")"
   ]
  },
  {
   "cell_type": "markdown",
   "metadata": {
    "id": "gBWd4aW8VrIi"
   },
   "source": [
    "\n",
    "\n",
    "---\n",
    "\n"
   ]
  },
  {
   "cell_type": "markdown",
   "metadata": {
    "id": "1eK7N4EZVx2S"
   },
   "source": [
    "## Travelling-Salesman Problem"
   ]
  },
  {
   "cell_type": "markdown",
   "metadata": {
    "id": "YinB0MLjWH7O"
   },
   "source": [
    "In diesem Teil soll das TSP mithilfe von Local Search approximiert werden. Für diese Aufgabe betrachten wir ausschließlich das symmetrische TSP, bei dem die Kanten der Graphen ungerichtet sind. Es gibt folglich für einen Graph nur eine Tour.\n",
    "\n",
    "Wir verwenden zur Darstellung der Graphen das Paket `networkx` (https://networkx.org/documentation/latest/). Außerdem das Paket `tsplib95` (https://tsplib95.readthedocs.io/en/stable/index.html) um die Algorithmen mit Benchmarks zu testen."
   ]
  },
  {
   "cell_type": "code",
   "execution_count": 31,
   "metadata": {
    "id": "0sKhvk2MVvPc"
   },
   "outputs": [],
   "source": [
    "import networkx as nx\n",
    "import tsplib95\n",
    "import os\n",
    "import random\n",
    "import math"
   ]
  },
  {
   "cell_type": "markdown",
   "metadata": {
    "id": "f2GFqfdfcA4_"
   },
   "source": [
    "Implementieren Sie die Funktion `import_benchmarks`, welche die verschiedenen TSP Instanzen zusammen mit den Lösungen aus dem Ordner `tsp_benchmarks` importiert und eine Liste aus Tupeln der Form `(G, optimal_solution)` zurückgibt, bestehend aus dem Graphen als `networkx`-Objekt und dem Gewicht der optimalen Lösung."
   ]
  },
  {
   "cell_type": "code",
   "execution_count": 32,
   "metadata": {
    "id": "yNANYsXiWOJ0"
   },
   "outputs": [
    {
     "name": "stdout",
     "output_type": "stream",
     "text": [
      "a280.tsp a280.opt.tour\n",
      "att48.tsp att48.opt.tour\n",
      "bayg29.tsp bayg29.opt.tour\n",
      "bays29.tsp bays29.opt.tour\n",
      "4\n"
     ]
    }
   ],
   "source": [
    "def import_benchmarks(path='./tsp_benchmarks/') -> list[tuple[nx.Graph, int]]:\n",
    "    \"\"\" Loads TSP problems with optimal solution \"\"\"\n",
    "    res = []\n",
    "    dir_list = sorted(os.listdir(path))\n",
    "    for i in range(len(dir_list) - 1): # TODO make sure tsp and tour belong to each other\n",
    "        if dir_list[i][0:5] != dir_list[i+1][0:5]:\n",
    "            continue\n",
    "\n",
    "        opt = tsplib95.load(path + dir_list[i])\n",
    "        problem = tsplib95.load(path + dir_list[i+1])\n",
    "        G = problem.get_graph()\n",
    "        print(dir_list[i+1], dir_list[i])\n",
    "        optimal_solution = problem.trace_tours(opt.tours)[0]\n",
    "        res.append((G, optimal_solution))\n",
    "        \n",
    "        if i > 8: # TODO\n",
    "            break\n",
    "    return res\n",
    "    \n",
    "a = import_benchmarks()\n",
    "print(len(a))"
   ]
  },
  {
   "cell_type": "markdown",
   "metadata": {
    "id": "hqSZBrneg_5l"
   },
   "source": [
    "Implementieren Sie nun die folgenden drei Local-Search Algorithmen um das TSP zu lösen. Genau wie beim $n$-Damen Problem, kann auch beim TSP eine Lösung als Permutation der Knoten des Graphen gesehen werden. Für das Hill-Climbing und dem Simulated Annealing, besteht eine Aktion daraus, zwei Knoten auf dem Rundweg zu vertauschen. Beim EX3-Algorithmus ist die Aktion unten beschrieben.\n",
    "\n",
    "**1. Simple Hill-Climbing**"
   ]
  },
  {
   "cell_type": "code",
   "execution_count": 26,
   "metadata": {
    "id": "jvvRsiDrhAnz"
   },
   "outputs": [
    {
     "name": "stdout",
     "output_type": "stream",
     "text": [
      "([2, 29, 3, 26, 5, 9, 12, 6, 13, 20, 10, 4, 25, 7, 11, 22, 17, 14, 18, 15, 19, 16, 24, 27, 23, 8, 28, 1, 21], 1831)\n"
     ]
    }
   ],
   "source": [
    "def tsp_hill_climb(G: nx.Graph, succ=successors_hc) -> int:\n",
    "    \"\"\" Simple Hill Climbing \"\"\"\n",
    "    conf = list(G.nodes)\n",
    "    tour_cost = calculate_tour_cost(G, conf)\n",
    "    visited = []\n",
    "    improvement = 1\n",
    "    while improvement :\n",
    "        visited.append(conf)\n",
    "        new_conf, new_tour_cost = succ(G, conf, visited)\n",
    "        improvement = tour_cost - new_tour_cost\n",
    "          \n",
    "        conf, tour_cost = new_conf, new_tour_cost\n",
    "    return conf, calculate_tour_cost(G, conf)\n",
    "\n",
    "def calculate_tour_cost(G, t):\n",
    "    total_cost = 0\n",
    "    tour = t + [t[0]]\n",
    "    for i in range(len(tour) - 1):\n",
    "        u, v = tour[i], tour[i + 1]\n",
    "        # Add the weight of the edge (u, v)\n",
    "        total_cost += G[u][v]['weight']\n",
    "    return total_cost\n",
    "\n",
    "def successors_hc(G, conf, visited) -> list[list[int]]:\n",
    "    \"\"\" Returns best successor\"\"\"\n",
    "    best_successor = (conf, calculate_tour_cost(G, conf))\n",
    "    for i in range(len(conf)):\n",
    "        for j in range(len(conf)):\n",
    "            if i == j:\n",
    "                continue\n",
    "            copy = conf.copy()\n",
    "            swap(copy, i, j)\n",
    "            best_successor = (copy, calculate_tour_cost(G,copy)) if (calculate_tour_cost(G, copy) <= best_successor[1] and copy not in visited) else best_successor\n",
    "    return best_successor\n",
    "\n",
    "print(tsp_hill_climb(a[2][0]))"
   ]
  },
  {
   "cell_type": "markdown",
   "metadata": {
    "id": "ui9p3tJ4hEFP"
   },
   "source": [
    "**3. Simulated Annealing**"
   ]
  },
  {
   "cell_type": "code",
   "execution_count": 37,
   "metadata": {
    "id": "IBBum7aWhPO6"
   },
   "outputs": [
    {
     "name": "stdout",
     "output_type": "stream",
     "text": [
      "([3, 25, 24, 10, 14, 28, 6, 23, 21, 22, 20, 2, 19, 17, 7, 4, 29, 9, 18, 5, 27, 1, 13, 26, 11, 12, 15, 16, 8], 5139)\n"
     ]
    }
   ],
   "source": [
    "def tsp_simulated_annealing(G: nx.Graph, temperature: float) -> int:\n",
    "    \"\"\" Takes worse steps dependend on temperature \"\"\"\n",
    "    conf = list(G.nodes)\n",
    "    tour_cost = calculate_tour_cost(G, conf)\n",
    "    visited = []\n",
    "    \n",
    "    for t in range(temperature, -1, -1):\n",
    "        if t ==  0:\n",
    "            return conf, calculate_tour_cost(G, conf)\n",
    "            \n",
    "        visited.append(conf)\n",
    "        sucessor = conf.copy()\n",
    "        random.shuffle(sucessor)\n",
    "        #while sucessor in visited: # dangeer infinity\n",
    "            #sucessor = random.shuffle(conf)\n",
    "        new_tour_cost = calculate_tour_cost(G, sucessor)\n",
    "        \n",
    "        if new_tour_cost < tour_cost:\n",
    "            conf = sucessor\n",
    "        else:\n",
    "            delta = abs(tour_cost - new_tour_cost)\n",
    "            p = math.exp(delta / temperature)\n",
    "            if random.random() < p:\n",
    "                conf = sucessor\n",
    "    \n",
    "print(tsp_simulated_annealing(a[2][0], 100))"
   ]
  },
  {
   "cell_type": "markdown",
   "metadata": {
    "id": "8gvObqy3hA9O"
   },
   "source": [
    "**2. EX3-Algorithmus**\n",
    "\n",
    "Der EX3-Algorithmus funktioniert ähnlich wie Hill-Climbing, benutzt allerdings eine etwas andere Nachfolgerfunktion. Die Nachfolger eines Rundweges werden bestimmt, indem zunächst zufällig **drei** Kanten aus dem bisherigen Rundweg ausgewählt werden. Dies zerlegt den Rundweg in drei Teilrundwege. Für das erneute zusammenfügen gibt es danach 8 Möglichkeiten (wie im Bild unten zu sehen ist). Der Algorithmus testet nun für jede 3 Kanten alle Nachfolger und wählt denjenigen aus, der die Kosten am stärksten verringert. Dies wird so lange gemacht, bis sich der Rundweg nicht mehr verkürzt.\n",
    "\n",
    "![EX3 Visualisation](three_opt.png \"EX3\")"
   ]
  },
  {
   "cell_type": "code",
   "execution_count": null,
   "metadata": {
    "id": "isqhsSQuhD2p"
   },
   "outputs": [],
   "source": [
    "def tsp_ex3(G: nx.Graph) -> int:\n",
    "  pass"
   ]
  },
  {
   "cell_type": "markdown",
   "metadata": {
    "id": "9H5nLjNphTON"
   },
   "source": [
    "**Evaluierung**\n",
    "\n",
    "Vergleichen Sie die drei Algorithmen miteinander. Nutzen Sie dafür die bereitgestellten Benchmarks und die Länge der Optimallösung. Sie sollten Ihre Ergebnisse geeignet visualisieren."
   ]
  },
  {
   "cell_type": "code",
   "execution_count": null,
   "metadata": {
    "id": "9x6JPAoThVGi"
   },
   "outputs": [],
   "source": []
  }
 ],
 "metadata": {
  "colab": {
   "provenance": []
  },
  "kernelspec": {
   "display_name": "Python 3 (ipykernel)",
   "language": "python",
   "name": "python3"
  },
  "language_info": {
   "codemirror_mode": {
    "name": "ipython",
    "version": 3
   },
   "file_extension": ".py",
   "mimetype": "text/x-python",
   "name": "python",
   "nbconvert_exporter": "python",
   "pygments_lexer": "ipython3",
   "version": "3.10.12"
  }
 },
 "nbformat": 4,
 "nbformat_minor": 4
}
