{
 "cells": [
  {
   "cell_type": "markdown",
   "metadata": {},
   "source": [
    "# 2. Programmierprojekt: Local Search"
   ]
  },
  {
   "cell_type": "markdown",
   "metadata": {},
   "source": [
    "## $n$-Damen Problem\n",
    "\n",
    "Wir modellieren das $n$-Damen Problem wie folgt: Jeder Zustand im Suchraum ist eine Permutation des Vektors $(0, \\dotsc, n-1)$. Damit sind die Aktionen die von einem Zustand möglich sind Vertauschungen von Zahlen."
   ]
  },
  {
   "cell_type": "code",
   "execution_count": 1,
   "metadata": {
    "ExecuteTime": {
     "end_time": "2024-05-23T14:28:29.412608Z",
     "start_time": "2024-05-23T14:28:29.402466Z"
    },
    "id": "3R_stlYHxPXb"
   },
   "outputs": [],
   "source": [
    "import random\n",
    "\n",
    "def generate_random_conf(n: int) -> list:\n",
    "  # Generate random permutation of (0,...,n-1)\n",
    "  conf = [i for i in range(n)]\n",
    "  random.shuffle(conf)\n",
    "  return conf\n",
    "\n",
    "def swap(conf, i, j):\n",
    "  # Swap positions i,j inplace\n",
    "  conf[i], conf[j] = conf[j], conf[i]"
   ]
  },
  {
   "cell_type": "code",
   "execution_count": null,
   "metadata": {
    "ExecuteTime": {
     "end_time": "2024-05-23T12:27:19.477149Z",
     "start_time": "2024-05-23T12:27:19.446170Z"
    },
    "colab": {
     "base_uri": "https://localhost:8080/"
    },
    "id": "Iw8mVsBDx4O-",
    "outputId": "09cb386c-523a-4ec4-c638-e714ea97d494"
   },
   "outputs": [],
   "source": [
    "conf = generate_random_conf(8)\n",
    "swap(conf, 3, 5)\n",
    "conf"
   ]
  },
  {
   "cell_type": "markdown",
   "metadata": {
    "id": "FHMpvoKnyN3S"
   },
   "source": [
    "Implentieren Sie die folgende Funktion `conflicts`, welche für jede Dame die Anzahl der Bedrohungen aufsummiert. Überlegen Sie, welche Art von Bedrohungen durch die Modellierung überhaupt möglich sind."
   ]
  },
  {
   "cell_type": "code",
   "execution_count": null,
   "metadata": {
    "ExecuteTime": {
     "end_time": "2024-05-23T14:28:31.943145Z",
     "start_time": "2024-05-23T14:28:31.935348Z"
    },
    "id": "1S6sWRomybnI"
   },
   "outputs": [],
   "source": [
    "def conflicts(queens) -> int:\n",
    "  \"\"\" Heuristic that indicates number of beatable queens on the right\"\"\"\n",
    "  \n",
    "  conflicts = 0\n",
    "  for i in range(len(queens)):\n",
    "    # For better initialization\n",
    "    if queens[i] == float(\"-inf\"):\n",
    "        continue\n",
    "    for j in range(i + 1, len(queens)):\n",
    "        conflicts += int(queens[i] == queens[j] or queens[i] + j - i == queens[j] or queens[i] - j + i == queens[j])\n",
    "  return conflicts"
   ]
  },
  {
   "cell_type": "code",
   "execution_count": null,
   "metadata": {
    "ExecuteTime": {
     "end_time": "2024-05-23T12:27:20.116726Z",
     "start_time": "2024-05-23T12:27:20.102180Z"
    },
    "id": "nhFg6sZTXl5p"
   },
   "outputs": [],
   "source": [
    "conf1 = [0, 1, 2, 3, 4, 5, 6, 7] # conflicts = 28\n",
    "conf2 = [17, 22, 11, 5, 2, 6, 12, 15, 21, 19, 10, 8, 0, 3, 1, 20, 23, 9, 14, 18, 13, 24, 16, 4, 7] # conflicts = 0\n",
    "conf3 = [15, 12, 9, 16, 0, 18, 6, 11, 19, 7, 13, 3, 10, 4, 1, 2, 8, 5, 14, 17] # conflicts = 12\n",
    "\n",
    "\n",
    "assert conflicts(conf1) == 28\n",
    "assert conflicts(conf2) == 0\n",
    "assert conflicts(conf3) == 12"
   ]
  },
  {
   "cell_type": "markdown",
   "metadata": {
    "id": "u-yjM-kIz8Qr"
   },
   "source": [
    "Nutzen sie die obige Funktion als Heuristik für den A*-Algorithmus. Testen sie bis zu welchem $n$ der Algorithmus eine Lösung in unter zwei Minuten findet. Starten Sie dabei immer von einer zufälligen Startkonfiguration."
   ]
  },
  {
   "cell_type": "code",
   "execution_count": null,
   "metadata": {
    "ExecuteTime": {
     "end_time": "2024-05-23T13:19:36.844451Z",
     "start_time": "2024-05-23T13:18:34.054963Z"
    },
    "id": "6yeRq0gn0gjM"
   },
   "outputs": [],
   "source": [
    "from queue import PriorityQueue\n",
    "\n",
    "\n",
    "def queens_a_star(n: int) -> list[int]:\n",
    "    \"\"\" Find solution with A*; not feasible for n >= 50 \"\"\"\n",
    "    \n",
    "    conf = generate_random_conf(n)\n",
    "    \n",
    "    queue = PriorityQueue()\n",
    "    # stores f, h, g, configuration\n",
    "    queue.put((conflicts(conf), conflicts(conf), 0, conf))\n",
    "    visited = []\n",
    "    \n",
    "    while not queue.empty():\n",
    "        entry = queue.get()\n",
    "        g_score, state = entry[2], entry[3]\n",
    "        visited.append(state)\n",
    "\n",
    "        for successor in successors_astar(state):\n",
    "            if not conflicts(successor):\n",
    "                return successor\n",
    "            if successor in visited:\n",
    "                continue\n",
    "                \n",
    "            new_g_score = g_score + 1\n",
    "            h = conflicts(successor)\n",
    "            f_score = h + new_g_score\n",
    "            queue.put((f_score, h, new_g_score, successor))\n",
    "            visited.append(successor)\n",
    "\n",
    "    return [-1]\n",
    "\n",
    "\n",
    "def successors_astar(queens) -> list[list[int]]:\n",
    "    \"\"\" Returns list of successor states; action is swapping \"\"\"\n",
    "    successors = []\n",
    "    for i in range(len(queens)):\n",
    "        for j in range(len(queens)):\n",
    "            if i == j:\n",
    "                continue\n",
    "            copy = queens.copy()\n",
    "            swap(copy, i, j)\n",
    "            successors.append(copy)\n",
    "    return successors\n",
    "    "
   ]
  },
  {
   "cell_type": "markdown",
   "metadata": {
    "id": "kfMTbo_l1_Pp"
   },
   "source": [
    "Wir wollen im Folgenden einen Local-Search Ansatz nutzen, um das Problem zu lösen. Implementieren Sie nun den Hill-Climbing Algorithmus aus der Vorlesung. Der Algorithmus sollte zusätzlich maximal $k$ Seitwärtszüge erlauben."
   ]
  },
  {
   "cell_type": "code",
   "execution_count": null,
   "metadata": {
    "ExecuteTime": {
     "end_time": "2024-05-23T14:28:46.740845Z",
     "start_time": "2024-05-23T14:28:46.727987Z"
    },
    "id": "pDdm-hqb2Wpb"
   },
   "outputs": [],
   "source": [
    "def queens_hill_climb(n, k=0) -> tuple[list[int], int]:\n",
    "    return hill_climb_core(generate_random_conf(n), k)\n",
    "  \n",
    "def hill_climb_core(conf, k=0) -> tuple[list[int], int]:\n",
    "    \"\"\" Searches solution by hill-climbing; k: possible side steps \"\"\"  \n",
    "    conflicts_amount = conflicts(conf)\n",
    "    improvement, side_steps = 1, 0\n",
    "    visited = []\n",
    "  \n",
    "    while side_steps <= k  and conflicts_amount != 0:\n",
    "        visited.append(conf)\n",
    "        new_conf, new_conflict_amount = successors(conf, visited)\n",
    "      \n",
    "        improvement = conflicts_amount - new_conflict_amount\n",
    "      \n",
    "        if improvement:\n",
    "            side_steps = 0\n",
    "        else:\n",
    "            side_steps += 1\n",
    "          \n",
    "        conf, conflicts_amount = new_conf, new_conflict_amount\n",
    "      \n",
    "    return conf, conflicts(conf)\n",
    "\n",
    "\n",
    "def successors(queens, visited) -> list[list[int]]:\n",
    "    \"\"\" Returns best successor\"\"\"\n",
    "    best_successor = (queens, conflicts(queens))\n",
    "    for i in range(len(queens)):\n",
    "        for j in range(len(queens)):\n",
    "            if i == j:\n",
    "                continue\n",
    "            copy = queens.copy()\n",
    "            swap(copy, i, j)\n",
    "            best_successor = (copy, conflicts(copy)) if (conflicts(copy) <= best_successor[1] and copy not in visited) else best_successor\n",
    "    return best_successor\n"
   ]
  },
  {
   "cell_type": "markdown",
   "metadata": {
    "id": "-5hK4u0O2-Nl"
   },
   "source": [
    "Evaluieren Sie den Algorithmus empirisch. Testen sie für verschiedene $n$ und $k$, wie groß die Erfolgsrate des Algorithmus ist. Überlegen Sie sich eine geeignete Visualisierung ihrer Ergebnisse."
   ]
  },
  {
   "cell_type": "code",
   "execution_count": null,
   "metadata": {
    "ExecuteTime": {
     "end_time": "2024-05-23T13:25:45.410761Z",
     "start_time": "2024-05-23T13:25:34.221634Z"
    },
    "id": "tCE0RmxS3WI5"
   },
   "outputs": [],
   "source": [
    "n_samples = 200\n",
    "k = [0, 5, 10, 20, 50, 100]\n",
    "\n",
    "total_amount, total_hits = 0, 0\n",
    "for i in k:\n",
    "    amount, hits = 0, 0\n",
    "    for n in range(8, n_samples):\n",
    "        amount += 1\n",
    "        hits += int(not queens_hill_climb(n, i)[1])\n",
    "    print(\"Success rate for k= \" + str(i) + \" : \" + str((hits / amount) * 100) + \"%\")\n",
    "    total_amount += amount\n",
    "    total_hits += hits\n",
    "print(\"Overall success rate: \" + str((total_hits / total_amount) * 100) + \"%\")"
   ]
  },
  {
   "cell_type": "markdown",
   "metadata": {
    "id": "BBOnIDEk4dv_"
   },
   "source": [
    "Implementieren sie nun Hill-Climbing mit Random-Restarts, um immer optimale Lösungen zu finden. Berechnen Sie auch, wie viele Restarts nötig waren, um eine optimale Lösung zu finden. Bis zu welchem $n$ können sie mit diesem Ansatz in weniger als zwei Minuten Lösungen finden? (Probieren sie auch verschiedene $k$)"
   ]
  },
  {
   "cell_type": "code",
   "execution_count": null,
   "metadata": {
    "ExecuteTime": {
     "end_time": "2024-05-23T13:24:07.825668Z",
     "start_time": "2024-05-23T13:19:36.847824Z"
    },
    "id": "GBPlFDaXAtoM"
   },
   "outputs": [],
   "source": [
    "def queens_random_restart(n, k=0) -> tuple[list[int], int]:\n",
    "    \"\"\" Restart hill climbing till solution is found; not feasible for n >= 65   \"\"\"\n",
    "    restart = 0\n",
    "    conf, conflict_amount = queens_hill_climb(n, k)\n",
    "    while conflict_amount:\n",
    "        restart += 1\n",
    "        conf, conflict_amount = queens_hill_climb(n, k)\n",
    "    return conf, restart"
   ]
  },
  {
   "cell_type": "markdown",
   "metadata": {
    "id": "DZTWMO4DVhWQ"
   },
   "source": [
    "Eine weitere Verbesserung kann erreicht werden, in dem die initiale Konfiguration nicht rein zufällig gewählt wird. Es kann versucht werden, anfangs eine Konfiguration zu finden, in der möglichst viele Damen bereits konfliktfrei gesetzt sind. Die restlichen Damen sollten dann mit möglichst wenigen Konflikten gesetzt werden.\n",
    "\n",
    "Implementieren Sie darauf basierend einen verbesserten Generator für die Startkonfiguration und testen Sie, ob damit noch größere Probleminstanzen gelöst werden können."
   ]
  },
  {
   "cell_type": "code",
   "execution_count": null,
   "metadata": {
    "ExecuteTime": {
     "end_time": "2024-05-23T14:30:23.545734Z",
     "start_time": "2024-05-23T14:30:23.514554Z"
    }
   },
   "outputs": [],
   "source": [
    "from random import randrange\n",
    "import numpy as np\n",
    "\n",
    "\n",
    "def better_initial_configuration(n: int, k=0) -> tuple[list[int], int]:\n",
    "    \"\"\" Initialize conf with minimal conflicts \"\"\"\n",
    "    conf = [float(\"-inf\")] * n\n",
    "    f = np.zero(n, n)\n",
    "    possible_queens = [i for i in range(n)]\n",
    "    conf[0] = possible_queens.pop(randrange(n))\n",
    "    f = magic(f, conf[0], 0)\n",
    "    \n",
    "    for i in range(1, n):\n",
    "        copy = conf.copy()\n",
    "        min_conflicts = possible_queens[0], 0 # index, conflicts_amount\n",
    "\n",
    "        # TODO min overlap\n",
    "        \n",
    "        for j in possible_queens:\n",
    "            copy[i] = j\n",
    "            if conflicts(copy) <= min_conflicts[1]:\n",
    "                min_conflicts = j, conflicts(copy)\n",
    "\n",
    "        \n",
    "        conf[i] = min_conflicts[0]\n",
    "        possible_queens.remove(conf[i])\n",
    "    print(conf, conflicts(conf))\n",
    "    return hill_climb_core(conf, k)\n",
    "\n",
    "def magic(f, x, y):\n",
    "    f[:, y] = -1\n",
    "    f[x, :] = -1\n",
    "    # TODO diagonal\n",
    "    return f\n",
    "    \n",
    "\n",
    "print(better_initial_configuration(20))\n",
    "print(\"\\n\")\n",
    "print(queens_hill_climb(20))"
   ]
  },
  {
   "cell_type": "code",
   "execution_count": null,
   "metadata": {
    "ExecuteTime": {
     "end_time": "2024-05-23T14:12:34.867590Z",
     "start_time": "2024-05-23T14:12:32.256715Z"
    }
   },
   "outputs": [],
   "source": [
    "n_samples = 200\n",
    "k = [0, 5, 10, 20, 50, 100]\n",
    "\n",
    "total_amount, total_hits = 0, 0\n",
    "for i in k:\n",
    "    amount, hits = 0, 0\n",
    "    for n in range(8, n_samples):\n",
    "        amount += 1\n",
    "        hits += int(not better_initial_configuration(n, i)[1])\n",
    "    print(\"Success rate for k= \" + str(i) + \" : \" + str((hits / amount) * 100) +\"%\")\n",
    "    total_amount += amount\n",
    "    total_hits += hits\n",
    "print(\"Overall success rate: \" + str((total_hits / total_amount) * 100) +\"%\")"
   ]
  },
  {
   "cell_type": "markdown",
   "metadata": {
    "id": "gBWd4aW8VrIi"
   },
   "source": [
    "\n",
    "\n",
    "---\n",
    "\n"
   ]
  },
  {
   "cell_type": "markdown",
   "metadata": {
    "id": "1eK7N4EZVx2S"
   },
   "source": [
    "## Travelling-Salesman Problem"
   ]
  },
  {
   "cell_type": "markdown",
   "metadata": {
    "id": "YinB0MLjWH7O"
   },
   "source": [
    "In diesem Teil soll das TSP mithilfe von Local Search approximiert werden. Für diese Aufgabe betrachten wir ausschließlich das symmetrische TSP, bei dem die Kanten der Graphen ungerichtet sind. Es gibt folglich für einen Graph nur eine Tour.\n",
    "\n",
    "Wir verwenden zur Darstellung der Graphen das Paket `networkx` (https://networkx.org/documentation/latest/). Außerdem das Paket `tsplib95` (https://tsplib95.readthedocs.io/en/stable/index.html) um die Algorithmen mit Benchmarks zu testen."
   ]
  },
  {
   "cell_type": "code",
   "execution_count": 2,
   "metadata": {
    "id": "0sKhvk2MVvPc"
   },
   "outputs": [],
   "source": [
    "import networkx as nx\n",
    "import tsplib95\n",
    "import os\n",
    "import random\n",
    "import math"
   ]
  },
  {
   "cell_type": "markdown",
   "metadata": {
    "id": "f2GFqfdfcA4_"
   },
   "source": [
    "Implementieren Sie die Funktion `import_benchmarks`, welche die verschiedenen TSP Instanzen zusammen mit den Lösungen aus dem Ordner `tsp_benchmarks` importiert und eine Liste aus Tupeln der Form `(G, optimal_solution)` zurückgibt, bestehend aus dem Graphen als `networkx`-Objekt und dem Gewicht der optimalen Lösung."
   ]
  },
  {
   "cell_type": "code",
   "execution_count": null,
   "metadata": {
    "id": "yNANYsXiWOJ0"
   },
   "outputs": [
    {
     "name": "stdout",
     "output_type": "stream",
     "text": [
      "a280.tsp a280.opt.tour\n",
      "att48.tsp att48.opt.tour\n",
      "bayg29.tsp bayg29.opt.tour\n",
      "bays29.tsp bays29.opt.tour\n",
      "berlin52.tsp berlin52.opt.tour\n",
      "brg180.tsp brg180.opt.tour\n",
      "ch130.tsp ch130.opt.tour\n",
      "ch150.tsp ch150.opt.tour\n",
      "eil101.tsp eil101.opt.tour\n",
      "eil51.tsp eil51.opt.tour\n",
      "eil76.tsp eil76.opt.tour\n",
      "fri26.tsp fri26.opt.tour\n",
      "gr120.tsp gr120.opt.tour\n",
      "gr202.tsp gr202.opt.tour\n",
      "gr24.tsp gr24.opt.tour\n",
      "gr48.tsp gr48.opt.tour\n",
      "gr666.tsp gr666.opt.tour\n",
      "gr96.tsp gr96.opt.tour\n",
      "kroA100.tsp kroA100.opt.tour\n",
      "kroC100.tsp kroC100.opt.tour\n",
      "kroD100.tsp kroD100.opt.tour\n",
      "lin105.tsp lin105.opt.tour\n",
      "pa561.tsp pa561.opt.tour\n",
      "pcb442.tsp pcb442.opt.tour\n",
      "pr1002.tsp pr1002.opt.tour\n",
      "pr2392.tsp pr2392.opt.tour\n",
      "pr76.tsp pr76.opt.tour\n",
      "rd100.tsp rd100.opt.tour\n",
      "st70.tsp st70.opt.tour\n"
     ]
    }
   ],
   "source": [
    "def import_benchmarks(path='./tsp_benchmarks/') -> list[tuple[nx.Graph, int]]:\n",
    "    \"\"\" Loads TSP problems with optimal solution \"\"\"\n",
    "    res = []\n",
    "    dir_list = sorted(os.listdir(path))\n",
    "    for i in range(len(dir_list) - 1):\n",
    "        # make sure tsp and tour belong to each other\n",
    "        if dir_list[i].split('.')[0] != dir_list[i+1].split('.')[0]:\n",
    "            continue\n",
    "\n",
    "        opt = tsplib95.load(path + dir_list[i])\n",
    "        problem = tsplib95.load(path + dir_list[i+1])\n",
    "        G = problem.get_graph()\n",
    "        print(dir_list[i+1], dir_list[i])\n",
    "        \n",
    "        try:\n",
    "            optimal_solution = problem.trace_tours(opt.tours)[0]\n",
    "        except IndexError:\n",
    "            optimal_solution = None\n",
    "            \n",
    "        res.append((G, optimal_solution))\n",
    "        \n",
    "    return res\n",
    "    \n",
    "a = import_benchmarks()\n",
    "print(len(a))"
   ]
  },
  {
   "cell_type": "markdown",
   "metadata": {
    "id": "hqSZBrneg_5l"
   },
   "source": [
    "Implementieren Sie nun die folgenden drei Local-Search Algorithmen um das TSP zu lösen. Genau wie beim $n$-Damen Problem, kann auch beim TSP eine Lösung als Permutation der Knoten des Graphen gesehen werden. Für das Hill-Climbing und dem Simulated Annealing, besteht eine Aktion daraus, zwei Knoten auf dem Rundweg zu vertauschen. Beim EX3-Algorithmus ist die Aktion unten beschrieben.\n",
    "\n",
    "**1. Simple Hill-Climbing**"
   ]
  },
  {
   "cell_type": "code",
   "execution_count": null,
   "metadata": {
    "id": "jvvRsiDrhAnz"
   },
   "outputs": [],
   "source": [
    "def tsp_hill_climb(G: nx.Graph, succ=successors_hc) -> int:\n",
    "    \"\"\" Simple Hill Climbing \"\"\"\n",
    "    conf = list(G.nodes)\n",
    "    tour_cost = calculate_tour_cost(G, conf)\n",
    "    visited = []\n",
    "    improvement = 1\n",
    "    while improvement :\n",
    "        visited.append(conf)\n",
    "        new_conf, new_tour_cost = succ(G, conf, visited)\n",
    "        improvement = tour_cost - new_tour_cost\n",
    "          \n",
    "        conf, tour_cost = new_conf, new_tour_cost\n",
    "    return conf, calculate_tour_cost(G, conf)\n",
    "\n",
    "def calculate_tour_cost(G, t) -> int:\n",
    "    \"\"\" I \"\"\"\n",
    "    total_cost = 0\n",
    "    tour = t + [t[0]]\n",
    "    for i in range(len(tour) - 1):\n",
    "        u, v = tour[i], tour[i + 1]\n",
    "        # Add the weight of the edge (u, v)\n",
    "        total_cost += G[u][v]['weight']\n",
    "    return total_cost\n",
    "\n",
    "def successors_hc(G, conf, visited) -> list[list[int]]:\n",
    "    \"\"\" Returns best successor \"\"\"\n",
    "    best_successor = (conf, calculate_tour_cost(G, conf))\n",
    "    for i in range(len(conf)):\n",
    "        for j in range(len(conf)):\n",
    "            if i == j:\n",
    "                continue\n",
    "            copy = conf.copy()\n",
    "            swap(copy, i, j)\n",
    "            best_successor = (copy, calculate_tour_cost(G,copy)) if (calculate_tour_cost(G, copy) <= best_successor[1] and copy not in visited) else best_successor\n",
    "    return best_successor\n",
    "\n",
    "print(tsp_hill_climb(a[2][0]))"
   ]
  },
  {
   "cell_type": "markdown",
   "metadata": {
    "id": "ui9p3tJ4hEFP"
   },
   "source": [
    "**3. Simulated Annealing**"
   ]
  },
  {
   "cell_type": "code",
   "execution_count": null,
   "metadata": {
    "id": "IBBum7aWhPO6"
   },
   "outputs": [],
   "source": [
    "def tsp_simulated_annealing(G: nx.Graph, temperature: float) -> int:\n",
    "    \"\"\" Takes worse steps dependend on temperature \"\"\"\n",
    "    conf = list(G.nodes)\n",
    "    tour_cost = calculate_tour_cost(G, conf)\n",
    "    visited = []\n",
    "    \n",
    "    for t in range(temperature, -1, -1):\n",
    "        if t ==  0:\n",
    "            return conf, calculate_tour_cost(G, conf)\n",
    "            \n",
    "        visited.append(conf)\n",
    "        sucessor = conf.copy()\n",
    "        random.shuffle(sucessor)\n",
    "        #while sucessor in visited: # dangeer infinity\n",
    "            #sucessor = random.shuffle(conf)\n",
    "        new_tour_cost = calculate_tour_cost(G, sucessor)\n",
    "        \n",
    "        if new_tour_cost < tour_cost:\n",
    "            conf = sucessor\n",
    "        else:\n",
    "            delta = abs(tour_cost - new_tour_cost)\n",
    "            p = math.exp(delta / temperature)\n",
    "            if random.random() < p:\n",
    "                conf = sucessor\n",
    "                \n",
    "# TODO good temp    \n",
    "print(tsp_simulated_annealing(a[2][0], 100))"
   ]
  },
  {
   "cell_type": "markdown",
   "metadata": {
    "id": "8gvObqy3hA9O"
   },
   "source": [
    "**2. EX3-Algorithmus**\n",
    "\n",
    "Der EX3-Algorithmus funktioniert ähnlich wie Hill-Climbing, benutzt allerdings eine etwas andere Nachfolgerfunktion. Die Nachfolger eines Rundweges werden bestimmt, indem zunächst zufällig **drei** Kanten aus dem bisherigen Rundweg ausgewählt werden. Dies zerlegt den Rundweg in drei Teilrundwege. Für das erneute zusammenfügen gibt es danach 8 Möglichkeiten (wie im Bild unten zu sehen ist). Der Algorithmus testet nun für jede 3 Kanten alle Nachfolger und wählt denjenigen aus, der die Kosten am stärksten verringert. Dies wird so lange gemacht, bis sich der Rundweg nicht mehr verkürzt.\n",
    "\n",
    "![EX3 Visualisation](three_opt.png \"EX3\")"
   ]
  },
  {
   "cell_type": "code",
   "execution_count": null,
   "metadata": {
    "id": "isqhsSQuhD2p"
   },
   "outputs": [],
   "source": [
    "\n",
    "\n",
    "def tsp_ex3(G: nx.Graph) -> int:\n",
    "    tsp_simulated_annealing(G, successors_ex3)\n",
    "\n",
    "def successors_ex3(G, conf, visited) -> list[list[int]]:\n",
    "    \"\"\" Returns best successor of ex3 \"\"\"\n",
    "    best_successor = (conf, calculate_tour_cost(G, conf))\n",
    "    l = len(conf)\n",
    "    x, y, z = random.randint(l), random.randint(l), random.randint(l)\n",
    "    copy = conf.copy()\n",
    "    b = \n",
    "    \n",
    "    \"\"\"\n",
    "    for i in range(len(conf)):\n",
    "        for j in range(len(conf)):\n",
    "            if i == j:\n",
    "                continue\n",
    "            copy = conf.copy()\n",
    "            swap(copy, i, j)\n",
    "            best_successor = (copy, calculate_tour_cost(G,copy)) if (calculate_tour_cost(G, copy) <= best_successor[1] and copy not in visited) else best_successor\n",
    "    \"\"\"\n",
    "    return best_successor\n",
    "    "
   ]
  },
  {
   "cell_type": "markdown",
   "metadata": {
    "id": "9H5nLjNphTON"
   },
   "source": [
    "**Evaluierung**\n",
    "\n",
    "Vergleichen Sie die drei Algorithmen miteinander. Nutzen Sie dafür die bereitgestellten Benchmarks und die Länge der Optimallösung. Sie sollten Ihre Ergebnisse geeignet visualisieren."
   ]
  },
  {
   "cell_type": "code",
   "execution_count": null,
   "metadata": {
    "id": "9x6JPAoThVGi"
   },
   "outputs": [],
   "source": [
    "bm = import_benchmarks()\n",
    "average_deviation_hc, average_deviation_sa, average_deviation_hex = 0, 0, 0\n",
    "for b in bm:\n",
    "    if b[1] == None:\n",
    "        continue\n",
    "    hc, sa, ex, opt = tsp_hill_climb(b[0]), tsp_simulated_annealing(b[0]), tsp_ex3(b[0]), b[1]\n",
    "    ad_hc, ad_sa, ad_hex += hc / opt - 1, sa / opt - 1, ex / opt - 1\n",
    "\n",
    "l = len(bm)\n",
    "# TODO *100\n",
    "print(\"Average deviation from optimum    HC: \" + str(ad_hc/l) + \"%, SA: \" + str(ad_hc/l)) + \"%, EX3: \" + str(ad_hc/l)) + \"%\") "
   ]
  },
  {
   "cell_type": "code",
   "execution_count": null,
   "metadata": {},
   "outputs": [],
   "source": []
  }
 ],
 "metadata": {
  "colab": {
   "provenance": []
  },
  "kernelspec": {
   "display_name": "Python 3 (ipykernel)",
   "language": "python",
   "name": "python3"
  },
  "language_info": {
   "codemirror_mode": {
    "name": "ipython",
    "version": 3
   },
   "file_extension": ".py",
   "mimetype": "text/x-python",
   "name": "python",
   "nbconvert_exporter": "python",
   "pygments_lexer": "ipython3",
   "version": "3.10.12"
  }
 },
 "nbformat": 4,
 "nbformat_minor": 4
}
