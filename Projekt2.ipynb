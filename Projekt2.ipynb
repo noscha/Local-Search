{
 "cells": [
  {
   "cell_type": "markdown",
   "metadata": {
    "id": "9N6s6XIZVSkH"
   },
   "source": [
    "# 2. Programmierprojekt: Local Search"
   ]
  },
  {
   "cell_type": "markdown",
   "metadata": {
    "id": "qq0RVgzqwCdv"
   },
   "source": [
    "## $n$-Damen Problem\n",
    "\n",
    "Wir modellieren das $n$-Damen Problem wie folgt: Jeder Zustand im Suchraum ist eine Permutation des Vektors $(0, \\dotsc, n-1)$. Damit sind die Aktionen die von einem Zustand möglich sind Vertauschungen von Zahlen."
   ]
  },
  {
   "cell_type": "code",
   "metadata": {
    "id": "3R_stlYHxPXb",
    "ExecuteTime": {
     "end_time": "2024-05-23T12:27:19.172292Z",
     "start_time": "2024-05-23T12:27:19.148484Z"
    }
   },
   "source": [
    "import random\n",
    "\n",
    "def generate_random_conf(n: int) -> list:\n",
    "  # Generate random permutation of (0,...,n-1)\n",
    "  conf = [i for i in range(n)]\n",
    "  random.shuffle(conf)\n",
    "  return conf\n",
    "\n",
    "def swap(conf, i, j):\n",
    "  # Swap positions i,j inplace\n",
    "  conf[i], conf[j] = conf[j], conf[i]"
   ],
   "outputs": [],
   "execution_count": 1
  },
  {
   "cell_type": "code",
   "metadata": {
    "colab": {
     "base_uri": "https://localhost:8080/"
    },
    "id": "Iw8mVsBDx4O-",
    "outputId": "09cb386c-523a-4ec4-c638-e714ea97d494",
    "ExecuteTime": {
     "end_time": "2024-05-23T12:27:19.477149Z",
     "start_time": "2024-05-23T12:27:19.446170Z"
    }
   },
   "source": [
    "conf = generate_random_conf(8)\n",
    "swap(conf, 3, 5)\n",
    "conf"
   ],
   "outputs": [
    {
     "data": {
      "text/plain": [
       "[6, 7, 5, 2, 0, 4, 3, 1]"
      ]
     },
     "execution_count": 2,
     "metadata": {},
     "output_type": "execute_result"
    }
   ],
   "execution_count": 2
  },
  {
   "cell_type": "markdown",
   "metadata": {
    "id": "FHMpvoKnyN3S"
   },
   "source": [
    "Implentieren Sie die folgende Funktion `conflicts`, welche für jede Dame die Anzahl der Bedrohungen aufsummiert. Überlegen Sie, welche Art von Bedrohungen durch die Modellierung überhaupt möglich sind."
   ]
  },
  {
   "cell_type": "code",
   "metadata": {
    "id": "1S6sWRomybnI",
    "ExecuteTime": {
     "end_time": "2024-05-23T12:27:19.614290Z",
     "start_time": "2024-05-23T12:27:19.601089Z"
    }
   },
   "source": [
    "def conflicts(queens) -> int:\n",
    "  \"\"\" Heuristic that indicates number of beatable queens on the right\"\"\"\n",
    "  \n",
    "  conflicts = 0\n",
    "  for i in range(len(queens)):\n",
    "    # For better initialization\n",
    "    if queens[i] == float(\"-inf\"):\n",
    "        continue\n",
    "    for j in range(i + 1, len(queens)):\n",
    "        conflicts += int(queens[i] == queens[j] or queens[i] + j - i == queens[j] or queens[i] - j + i == queens[j])\n",
    "  return conflicts"
   ],
   "outputs": [],
   "execution_count": 3
  },
  {
   "cell_type": "code",
   "metadata": {
    "id": "nhFg6sZTXl5p",
    "ExecuteTime": {
     "end_time": "2024-05-23T12:27:20.116726Z",
     "start_time": "2024-05-23T12:27:20.102180Z"
    }
   },
   "source": [
    "conf1 = [0, 1, 2, 3, 4, 5, 6, 7] # conflicts = 28\n",
    "conf2 = [17, 22, 11, 5, 2, 6, 12, 15, 21, 19, 10, 8, 0, 3, 1, 20, 23, 9, 14, 18, 13, 24, 16, 4, 7] # conflicts = 0\n",
    "conf3 = [15, 12, 9, 16, 0, 18, 6, 11, 19, 7, 13, 3, 10, 4, 1, 2, 8, 5, 14, 17] # conflicts = 12\n",
    "\n",
    "\n",
    "assert conflicts(conf1) == 28\n",
    "assert conflicts(conf2) == 0\n",
    "assert conflicts(conf3) == 12"
   ],
   "outputs": [],
   "execution_count": 4
  },
  {
   "cell_type": "markdown",
   "metadata": {
    "id": "u-yjM-kIz8Qr"
   },
   "source": [
    "Nutzen sie die obige Funktion als Heuristik für den A*-Algorithmus. Testen sie bis zu welchem $n$ der Algorithmus eine Lösung in unter zwei Minuten findet. Starten Sie dabei immer von einer zufälligen Startkonfiguration."
   ]
  },
  {
   "cell_type": "code",
   "metadata": {
    "id": "6yeRq0gn0gjM",
    "ExecuteTime": {
     "end_time": "2024-05-23T13:19:36.844451Z",
     "start_time": "2024-05-23T13:18:34.054963Z"
    }
   },
   "source": [
    "from queue import PriorityQueue\n",
    "\n",
    "\n",
    "def queens_a_star(n: int) -> list[int]:\n",
    "    \"\"\" Find solution with A*; not feasible for n >= 50 \"\"\"\n",
    "    \n",
    "    conf = generate_random_conf(n)\n",
    "    \n",
    "    queue = PriorityQueue()\n",
    "    # stores f, h, g, configuration\n",
    "    queue.put((conflicts(conf), conflicts(conf), 0, conf))\n",
    "    visited = []\n",
    "    \n",
    "    while not queue.empty():\n",
    "        entry = queue.get()\n",
    "        g_score, state = entry[2], entry[3]\n",
    "        visited.append(state)\n",
    "\n",
    "        for successor in successors_astar(state):\n",
    "            if not conflicts(successor):\n",
    "                return successor\n",
    "            if successor in visited:\n",
    "                continue\n",
    "                \n",
    "            new_g_score = g_score + 1\n",
    "            h = conflicts(successor)\n",
    "            f_score = h + new_g_score\n",
    "            queue.put((f_score, h, new_g_score, successor))\n",
    "            visited.append(successor)\n",
    "\n",
    "    return [-1]\n",
    "\n",
    "\n",
    "def successors_astar(queens) -> list[list[int]]:\n",
    "    \"\"\" Returns list of successor states; action is swapping \"\"\"\n",
    "    successors = []\n",
    "    for i in range(len(queens)):\n",
    "        for j in range(len(queens)):\n",
    "            if i == j:\n",
    "                continue\n",
    "            copy = queens.copy()\n",
    "            swap(copy, i, j)\n",
    "            successors.append(copy)\n",
    "    return successors\n",
    "    "
   ],
   "outputs": [
    {
     "name": "stdout",
     "output_type": "stream",
     "text": [
      "[27, 30, 40, 35, 32, 13, 28, 41, 2, 5, 33, 11, 18, 44, 15, 4, 34, 9, 43, 39, 0, 31, 29, 26, 36, 49, 19, 1, 45, 42, 3, 6, 14, 37, 48, 12, 47, 22, 17, 25, 23, 38, 20, 24, 10, 21, 7, 46, 8, 16]\n"
     ]
    }
   ],
   "execution_count": 26
  },
  {
   "cell_type": "markdown",
   "metadata": {
    "id": "kfMTbo_l1_Pp"
   },
   "source": [
    "Wir wollen im Folgenden einen Local-Search Ansatz nutzen, um das Problem zu lösen. Implementieren Sie nun den Hill-Climbing Algorithmus aus der Vorlesung. Der Algorithmus sollte zusätzlich maximal $k$ Seitwärtszüge erlauben."
   ]
  },
  {
   "cell_type": "code",
   "metadata": {
    "id": "pDdm-hqb2Wpb",
    "ExecuteTime": {
     "end_time": "2024-05-23T12:53:16.579986Z",
     "start_time": "2024-05-23T12:53:16.559389Z"
    }
   },
   "source": [
    "def queens_hill_climb(n, k=0) -> tuple[list[int], int]:\n",
    "    return hill_climb_core(generate_random_conf(n), k)\n",
    "  \n",
    "def hill_climb_core(conf, k=0) -> tuple[list[int], int]:\n",
    "    \"\"\" Searches solution by hill-climbing; k: possible side steps \"\"\"  \n",
    "    conflicts_amount = conflicts(conf)\n",
    "    improvement, side_steps = 1, 0\n",
    "    visited = []\n",
    "  \n",
    "    while side_steps <= k  and conflicts_amount != 0:\n",
    "        visited.append(conf)\n",
    "        new_conf, new_conflict_amount = successors(conf, visited)\n",
    "      \n",
    "        improvement = conflicts_amount - new_conflict_amount\n",
    "      \n",
    "        if improvement:\n",
    "            side_steps = 0\n",
    "        else:\n",
    "            side_steps += 1\n",
    "          \n",
    "        conf, conflicts_amount = new_conf, new_conflict_amount\n",
    "      \n",
    "    return conf, conflicts(conf)\n",
    "\n",
    "\n",
    "def successors(queens, visited) -> list[list[int]]:\n",
    "    \"\"\" Returns best successor\"\"\"\n",
    "    best_successor = (queens, conflicts(queens))\n",
    "    for i in range(len(queens)):\n",
    "        for j in range(len(queens)):\n",
    "            if i == j:\n",
    "                continue\n",
    "            copy = queens.copy()\n",
    "            swap(copy, i, j)\n",
    "            best_successor = (copy, conflicts(copy)) if (conflicts(copy) <= best_successor[1] and copy not in visited) else best_successor\n",
    "    return best_successor\n"
   ],
   "outputs": [],
   "execution_count": 17
  },
  {
   "cell_type": "markdown",
   "metadata": {
    "id": "-5hK4u0O2-Nl"
   },
   "source": [
    "Evaluieren Sie den Algorithmus empirisch. Testen sie für verschiedene $n$ und $k$, wie groß die Erfolgsrate des Algorithmus ist. Überlegen Sie sich eine geeignete Visualisierung ihrer Ergebnisse."
   ]
  },
  {
   "cell_type": "code",
   "metadata": {
    "id": "tCE0RmxS3WI5",
    "ExecuteTime": {
     "end_time": "2024-05-23T13:25:45.410761Z",
     "start_time": "2024-05-23T13:25:34.221634Z"
    }
   },
   "source": [
    "n_samples = 20\n",
    "k = [0, 5, 10, 20, 50, 100]\n",
    "\n",
    "total_amount, total_hits = 0, 0\n",
    "for i in k:\n",
    "    amount, hits = 0, 0\n",
    "    for n in range(8, n_samples):\n",
    "        amount += 1\n",
    "        hits += int(not queens_hill_climb(n, i)[1])\n",
    "    print(\"Success rate for k= \" + str(i) + \" : \" + str((hits / amount) * 100) +\"%\")\n",
    "    total_amount += amount\n",
    "    total_hits += hits\n",
    "print(\"Overall success rate: \" + str((total_hits / total_amount) * 100) +\"%\")"
   ],
   "outputs": [
    {
     "name": "stdout",
     "output_type": "stream",
     "text": [
      "Success rate for k= 0 : 16.666666666666664%\n",
      "Success rate for k= 5 : 91.66666666666666%\n",
      "Success rate for k= 10 : 91.66666666666666%\n",
      "Success rate for k= 20 : 83.33333333333334%\n",
      "Success rate for k= 50 : 75.0%\n",
      "Success rate for k= 100 : 91.66666666666666%\n",
      "Overall success rate: 75.0%\n"
     ]
    }
   ],
   "execution_count": 30
  },
  {
   "cell_type": "markdown",
   "metadata": {
    "id": "BBOnIDEk4dv_"
   },
   "source": [
    "Implementieren sie nun Hill-Climbing mit Random-Restarts, um immer optimale Lösungen zu finden. Berechnen Sie auch, wie viele Restarts nötig waren, um eine optimale Lösung zu finden. Bis zu welchem $n$ können sie mit diesem Ansatz in weniger als zwei Minuten Lösungen finden? (Probieren sie auch verschiedene $k$)"
   ]
  },
  {
   "cell_type": "code",
   "metadata": {
    "id": "GBPlFDaXAtoM",
    "ExecuteTime": {
     "end_time": "2024-05-23T13:24:07.825668Z",
     "start_time": "2024-05-23T13:19:36.847824Z"
    }
   },
   "source": [
    "def queens_random_restart(n, k=0) -> tuple[list[int], int]:\n",
    "    \"\"\" Restart hill climbing till solution is found; not feasible for n >= 65   \"\"\"\n",
    "    restart = 0\n",
    "    conf, conflict_amount = queens_hill_climb(n, k)\n",
    "    while conflict_amount:\n",
    "        restart += 1\n",
    "        conf, conflict_amount = queens_hill_climb(n, k)\n",
    "    return conf, restart"
   ],
   "outputs": [
    {
     "ename": "KeyboardInterrupt",
     "evalue": "",
     "output_type": "error",
     "traceback": [
      "\u001B[0;31m---------------------------------------------------------------------------\u001B[0m",
      "\u001B[0;31mKeyboardInterrupt\u001B[0m                         Traceback (most recent call last)",
      "Cell \u001B[0;32mIn[27], line 10\u001B[0m\n\u001B[1;32m      7\u001B[0m         conf, conflict_amount \u001B[38;5;241m=\u001B[39m queens_hill_climb(n, k)\n\u001B[1;32m      8\u001B[0m     \u001B[38;5;28;01mreturn\u001B[39;00m conf, restart\n\u001B[0;32m---> 10\u001B[0m \u001B[38;5;28mprint\u001B[39m(\u001B[43mqueens_random_restart\u001B[49m\u001B[43m(\u001B[49m\u001B[38;5;241;43m65\u001B[39;49m\u001B[43m)\u001B[49m)\n\u001B[1;32m     12\u001B[0m \u001B[38;5;66;03m# TODO find 2 min mark\u001B[39;00m\n",
      "Cell \u001B[0;32mIn[27], line 7\u001B[0m, in \u001B[0;36mqueens_random_restart\u001B[0;34m(n, k)\u001B[0m\n\u001B[1;32m      5\u001B[0m \u001B[38;5;28;01mwhile\u001B[39;00m conflict_amount:\n\u001B[1;32m      6\u001B[0m     restart \u001B[38;5;241m+\u001B[39m\u001B[38;5;241m=\u001B[39m \u001B[38;5;241m1\u001B[39m\n\u001B[0;32m----> 7\u001B[0m     conf, conflict_amount \u001B[38;5;241m=\u001B[39m \u001B[43mqueens_hill_climb\u001B[49m\u001B[43m(\u001B[49m\u001B[43mn\u001B[49m\u001B[43m,\u001B[49m\u001B[43m \u001B[49m\u001B[43mk\u001B[49m\u001B[43m)\u001B[49m\n\u001B[1;32m      8\u001B[0m \u001B[38;5;28;01mreturn\u001B[39;00m conf, restart\n",
      "Cell \u001B[0;32mIn[17], line 2\u001B[0m, in \u001B[0;36mqueens_hill_climb\u001B[0;34m(n, k)\u001B[0m\n\u001B[1;32m      1\u001B[0m \u001B[38;5;28;01mdef\u001B[39;00m \u001B[38;5;21mqueens_hill_climb\u001B[39m(n, k\u001B[38;5;241m=\u001B[39m\u001B[38;5;241m0\u001B[39m) \u001B[38;5;241m-\u001B[39m\u001B[38;5;241m>\u001B[39m \u001B[38;5;28mtuple\u001B[39m[\u001B[38;5;28mlist\u001B[39m[\u001B[38;5;28mint\u001B[39m], \u001B[38;5;28mint\u001B[39m]:\n\u001B[0;32m----> 2\u001B[0m     \u001B[38;5;28;01mreturn\u001B[39;00m \u001B[43mhill_climb_core\u001B[49m\u001B[43m(\u001B[49m\u001B[43mgenerate_random_conf\u001B[49m\u001B[43m(\u001B[49m\u001B[43mn\u001B[49m\u001B[43m)\u001B[49m\u001B[43m,\u001B[49m\u001B[43m \u001B[49m\u001B[43mk\u001B[49m\u001B[43m)\u001B[49m\n",
      "Cell \u001B[0;32mIn[17], line 12\u001B[0m, in \u001B[0;36mhill_climb_core\u001B[0;34m(conf, k)\u001B[0m\n\u001B[1;32m     10\u001B[0m \u001B[38;5;28;01mwhile\u001B[39;00m side_steps \u001B[38;5;241m<\u001B[39m\u001B[38;5;241m=\u001B[39m k  \u001B[38;5;129;01mand\u001B[39;00m conflicts_amount \u001B[38;5;241m!=\u001B[39m \u001B[38;5;241m0\u001B[39m:\n\u001B[1;32m     11\u001B[0m     visited\u001B[38;5;241m.\u001B[39mappend(conf)\n\u001B[0;32m---> 12\u001B[0m     new_conf, new_conflict_amount \u001B[38;5;241m=\u001B[39m \u001B[43msuccessors\u001B[49m\u001B[43m(\u001B[49m\u001B[43mconf\u001B[49m\u001B[43m,\u001B[49m\u001B[43m \u001B[49m\u001B[43mvisited\u001B[49m\u001B[43m)\u001B[49m\n\u001B[1;32m     14\u001B[0m     improvement \u001B[38;5;241m=\u001B[39m conflicts_amount \u001B[38;5;241m-\u001B[39m new_conflict_amount\n\u001B[1;32m     16\u001B[0m     \u001B[38;5;28;01mif\u001B[39;00m improvement:\n",
      "Cell \u001B[0;32mIn[17], line 35\u001B[0m, in \u001B[0;36msuccessors\u001B[0;34m(queens, visited)\u001B[0m\n\u001B[1;32m     33\u001B[0m         copy \u001B[38;5;241m=\u001B[39m queens\u001B[38;5;241m.\u001B[39mcopy()\n\u001B[1;32m     34\u001B[0m         swap(copy, i, j)\n\u001B[0;32m---> 35\u001B[0m         best_successor \u001B[38;5;241m=\u001B[39m (copy, conflicts(copy)) \u001B[38;5;28;01mif\u001B[39;00m (\u001B[43mconflicts\u001B[49m\u001B[43m(\u001B[49m\u001B[43mcopy\u001B[49m\u001B[43m)\u001B[49m \u001B[38;5;241m<\u001B[39m\u001B[38;5;241m=\u001B[39m best_successor[\u001B[38;5;241m1\u001B[39m] \u001B[38;5;129;01mand\u001B[39;00m copy \u001B[38;5;129;01mnot\u001B[39;00m \u001B[38;5;129;01min\u001B[39;00m visited) \u001B[38;5;28;01melse\u001B[39;00m best_successor\n\u001B[1;32m     36\u001B[0m \u001B[38;5;28;01mreturn\u001B[39;00m best_successor\n",
      "Cell \u001B[0;32mIn[3], line 9\u001B[0m, in \u001B[0;36mconflicts\u001B[0;34m(queens)\u001B[0m\n\u001B[1;32m      7\u001B[0m   \u001B[38;5;28;01mif\u001B[39;00m queens[i] \u001B[38;5;241m==\u001B[39m \u001B[38;5;28mfloat\u001B[39m(\u001B[38;5;124m\"\u001B[39m\u001B[38;5;124m-inf\u001B[39m\u001B[38;5;124m\"\u001B[39m):\n\u001B[1;32m      8\u001B[0m       \u001B[38;5;28;01mcontinue\u001B[39;00m\n\u001B[0;32m----> 9\u001B[0m   \u001B[38;5;28;01mfor\u001B[39;00m j \u001B[38;5;129;01min\u001B[39;00m \u001B[38;5;28;43mrange\u001B[39;49m\u001B[43m(\u001B[49m\u001B[43mi\u001B[49m\u001B[43m \u001B[49m\u001B[38;5;241;43m+\u001B[39;49m\u001B[43m \u001B[49m\u001B[38;5;241;43m1\u001B[39;49m\u001B[43m,\u001B[49m\u001B[43m \u001B[49m\u001B[38;5;28;43mlen\u001B[39;49m\u001B[43m(\u001B[49m\u001B[43mqueens\u001B[49m\u001B[43m)\u001B[49m\u001B[43m)\u001B[49m:\n\u001B[1;32m     10\u001B[0m       conflicts \u001B[38;5;241m+\u001B[39m\u001B[38;5;241m=\u001B[39m \u001B[38;5;28mint\u001B[39m(queens[i] \u001B[38;5;241m==\u001B[39m queens[j] \u001B[38;5;129;01mor\u001B[39;00m queens[i] \u001B[38;5;241m+\u001B[39m j \u001B[38;5;241m-\u001B[39m i \u001B[38;5;241m==\u001B[39m queens[j] \u001B[38;5;129;01mor\u001B[39;00m queens[i] \u001B[38;5;241m-\u001B[39m j \u001B[38;5;241m+\u001B[39m i \u001B[38;5;241m==\u001B[39m queens[j])\n\u001B[1;32m     11\u001B[0m \u001B[38;5;28;01mreturn\u001B[39;00m conflicts\n",
      "\u001B[0;31mKeyboardInterrupt\u001B[0m: "
     ]
    }
   ],
   "execution_count": 27
  },
  {
   "cell_type": "markdown",
   "metadata": {
    "id": "DZTWMO4DVhWQ"
   },
   "source": [
    "Eine weitere Verbesserung kann erreicht werden, in dem die initiale Konfiguration nicht rein zufällig gewählt wird. Es kann versucht werden, anfangs eine Konfiguration zu finden, in der möglichst viele Damen bereits konfliktfrei gesetzt sind. Die restlichen Damen sollten dann mit möglichst wenigen Konflikten gesetzt werden.\n",
    "\n",
    "Implementieren Sie darauf basierend einen verbesserten Generator für die Startkonfiguration und testen Sie, ob damit noch größere Probleminstanzen gelöst werden können."
   ]
  },
  {
   "cell_type": "code",
   "metadata": {
    "ExecuteTime": {
     "end_time": "2024-05-23T14:13:11.222362Z",
     "start_time": "2024-05-23T14:13:11.198383Z"
    }
   },
   "source": [
    "from random import randrange\n",
    "\n",
    "\n",
    "def better_initial_configuration(n: int, k=0) -> tuple[list[int], int]:\n",
    "    \"\"\" Initialize conf with minimal conflicts \"\"\"\n",
    "    conf = [float(\"-inf\")] * n\n",
    "    possible_queens = [i for i in range(n)]\n",
    "    conf[0] = possible_queens.pop(randrange(n))\n",
    "    for i in range(1, n):\n",
    "        copy = conf.copy()\n",
    "        min_conflicts = possible_queens[0], 0 # index, conflicts_amount\n",
    "        for j in possible_queens:\n",
    "            copy[i] = j\n",
    "            if conflicts(copy) <= min_conflicts[1]:\n",
    "                min_conflicts = j, conflicts(copy)\n",
    "        conf[i] = min_conflicts[0]\n",
    "        possible_queens.remove(conf[i])\n",
    "    return hill_climb_core(conf, k)\n",
    "    \n",
    "\n",
    "print(better_initial_configuration(8))"
   ],
   "outputs": [
    {
     "name": "stdout",
     "output_type": "stream",
     "text": [
      "([4, 6, 1, 3, 7, 0, 2, 5], 0)\n"
     ]
    }
   ],
   "execution_count": 57
  },
  {
   "cell_type": "code",
   "metadata": {
    "ExecuteTime": {
     "end_time": "2024-05-23T14:12:34.867590Z",
     "start_time": "2024-05-23T14:12:32.256715Z"
    }
   },
   "source": [
    "n_samples = 20\n",
    "k = [0, 5, 10, 20, 50, 100]\n",
    "\n",
    "total_amount, total_hits = 0, 0\n",
    "for i in k:\n",
    "    amount, hits = 0, 0\n",
    "    for n in range(8, n_samples):\n",
    "        amount += 1\n",
    "        hits += int(not better_initial_configuration(n, i)[1])\n",
    "    print(\"Success rate for k= \" + str(i) + \" : \" + str((hits / amount) * 100) +\"%\")\n",
    "    total_amount += amount\n",
    "    total_hits += hits\n",
    "print(\"Overall success rate: \" + str((total_hits / total_amount) * 100) +\"%\")"
   ],
   "outputs": [
    {
     "name": "stdout",
     "output_type": "stream",
     "text": [
      "[3, 7, 4, 2, 5, 0, 1, 6]\n",
      "[3, 8, 6, 4, 2, 7, 5, 0, 1]\n",
      "[7, 9, 6, 8, 5, 1, 0, 2, 3, 4]\n",
      "[6, 10, 7, 5, 8, 2, 9, 3, 0, 1, 4]\n",
      "[4, 11, 9, 6, 10, 5, 7, 1, 0, 2, 3, 8]\n",
      "[10, 12, 9, 11, 8, 4, 2, 0, 1, 3, 5, 6, 7]\n",
      "[0, 13, 11, 9, 12, 10, 5, 3, 1, 2, 4, 6, 7, 8]\n",
      "[3, 14, 12, 10, 13, 11, 6, 4, 2, 0, 9, 7, 1, 5, 8]\n",
      "[0, 15, 13, 11, 14, 12, 7, 5, 3, 1, 9, 2, 4, 6, 8, 10]\n",
      "[16, 14, 12, 15, 13, 8, 6, 4, 2, 11, 9, 0, 1, 3, 5, 7, 10]\n",
      "[4, 17, 15, 13, 16, 14, 9, 7, 5, 3, 12, 10, 0, 1, 2, 6, 8, 11]\n",
      "[6, 18, 16, 14, 17, 15, 10, 8, 5, 3, 13, 11, 2, 12, 0, 1, 4, 7, 9]\n",
      "Success rate for k= 0 : 33.33333333333333%\n",
      "[1, 7, 5, 3, 6, 4, 0, 2]\n",
      "[2, 8, 6, 4, 7, 5, 0, 1, 3]\n",
      "[8, 6, 9, 7, 5, 1, 0, 2, 3, 4]\n",
      "[4, 10, 8, 6, 9, 7, 2, 0, 1, 3, 5]\n",
      "[1, 11, 9, 7, 10, 8, 3, 0, 2, 4, 5, 6]\n",
      "[2, 12, 10, 8, 11, 9, 4, 1, 0, 3, 5, 6, 7]\n",
      "[8, 13, 11, 9, 7, 12, 10, 3, 1, 6, 0, 2, 4, 5]\n",
      "[7, 14, 12, 9, 13, 8, 10, 4, 2, 11, 0, 1, 3, 5, 6]\n",
      "[15, 13, 11, 14, 12, 7, 5, 3, 1, 10, 8, 0, 2, 4, 6, 9]\n",
      "[6, 16, 14, 12, 15, 13, 8, 5, 3, 1, 11, 2, 0, 4, 7, 9, 10]\n",
      "[16, 14, 17, 15, 13, 9, 7, 5, 3, 12, 10, 0, 1, 2, 4, 6, 8, 11]\n",
      "[13, 18, 16, 14, 12, 17, 15, 8, 6, 11, 2, 0, 1, 3, 4, 5, 7, 9, 10]\n",
      "Success rate for k= 5 : 66.66666666666666%\n",
      "[6, 4, 7, 5, 3, 0, 1, 2]\n",
      "[3, 8, 6, 4, 2, 7, 5, 0, 1]\n",
      "[2, 9, 7, 4, 8, 3, 5, 0, 1, 6]\n",
      "[0, 10, 8, 6, 9, 7, 2, 1, 3, 4, 5]\n"
     ]
    },
    {
     "ename": "KeyboardInterrupt",
     "evalue": "",
     "output_type": "error",
     "traceback": [
      "\u001B[0;31m---------------------------------------------------------------------------\u001B[0m",
      "\u001B[0;31mKeyboardInterrupt\u001B[0m                         Traceback (most recent call last)",
      "Cell \u001B[0;32mIn[52], line 9\u001B[0m\n\u001B[1;32m      7\u001B[0m \u001B[38;5;28;01mfor\u001B[39;00m n \u001B[38;5;129;01min\u001B[39;00m \u001B[38;5;28mrange\u001B[39m(\u001B[38;5;241m8\u001B[39m, n_samples):\n\u001B[1;32m      8\u001B[0m     amount \u001B[38;5;241m+\u001B[39m\u001B[38;5;241m=\u001B[39m \u001B[38;5;241m1\u001B[39m\n\u001B[0;32m----> 9\u001B[0m     hits \u001B[38;5;241m+\u001B[39m\u001B[38;5;241m=\u001B[39m \u001B[38;5;28mint\u001B[39m(\u001B[38;5;129;01mnot\u001B[39;00m \u001B[43mbetter_initial_configuration\u001B[49m\u001B[43m(\u001B[49m\u001B[43mn\u001B[49m\u001B[43m,\u001B[49m\u001B[43m \u001B[49m\u001B[43mi\u001B[49m\u001B[43m)\u001B[49m[\u001B[38;5;241m1\u001B[39m])\n\u001B[1;32m     10\u001B[0m \u001B[38;5;28mprint\u001B[39m(\u001B[38;5;124m\"\u001B[39m\u001B[38;5;124mSuccess rate for k= \u001B[39m\u001B[38;5;124m\"\u001B[39m \u001B[38;5;241m+\u001B[39m \u001B[38;5;28mstr\u001B[39m(i) \u001B[38;5;241m+\u001B[39m \u001B[38;5;124m\"\u001B[39m\u001B[38;5;124m : \u001B[39m\u001B[38;5;124m\"\u001B[39m \u001B[38;5;241m+\u001B[39m \u001B[38;5;28mstr\u001B[39m((hits \u001B[38;5;241m/\u001B[39m amount) \u001B[38;5;241m*\u001B[39m \u001B[38;5;241m100\u001B[39m) \u001B[38;5;241m+\u001B[39m\u001B[38;5;124m\"\u001B[39m\u001B[38;5;124m%\u001B[39m\u001B[38;5;124m\"\u001B[39m)\n\u001B[1;32m     11\u001B[0m total_amount \u001B[38;5;241m+\u001B[39m\u001B[38;5;241m=\u001B[39m amount\n",
      "Cell \u001B[0;32mIn[51], line 19\u001B[0m, in \u001B[0;36mbetter_initial_configuration\u001B[0;34m(n, k)\u001B[0m\n\u001B[1;32m     17\u001B[0m     possible_queens\u001B[38;5;241m.\u001B[39mremove(conf[i])\n\u001B[1;32m     18\u001B[0m \u001B[38;5;28mprint\u001B[39m(conf)\n\u001B[0;32m---> 19\u001B[0m \u001B[38;5;28;01mreturn\u001B[39;00m \u001B[43mhill_climb_core\u001B[49m\u001B[43m(\u001B[49m\u001B[43mconf\u001B[49m\u001B[43m,\u001B[49m\u001B[43m \u001B[49m\u001B[43mk\u001B[49m\u001B[43m)\u001B[49m\n",
      "Cell \u001B[0;32mIn[17], line 12\u001B[0m, in \u001B[0;36mhill_climb_core\u001B[0;34m(conf, k)\u001B[0m\n\u001B[1;32m     10\u001B[0m \u001B[38;5;28;01mwhile\u001B[39;00m side_steps \u001B[38;5;241m<\u001B[39m\u001B[38;5;241m=\u001B[39m k  \u001B[38;5;129;01mand\u001B[39;00m conflicts_amount \u001B[38;5;241m!=\u001B[39m \u001B[38;5;241m0\u001B[39m:\n\u001B[1;32m     11\u001B[0m     visited\u001B[38;5;241m.\u001B[39mappend(conf)\n\u001B[0;32m---> 12\u001B[0m     new_conf, new_conflict_amount \u001B[38;5;241m=\u001B[39m \u001B[43msuccessors\u001B[49m\u001B[43m(\u001B[49m\u001B[43mconf\u001B[49m\u001B[43m,\u001B[49m\u001B[43m \u001B[49m\u001B[43mvisited\u001B[49m\u001B[43m)\u001B[49m\n\u001B[1;32m     14\u001B[0m     improvement \u001B[38;5;241m=\u001B[39m conflicts_amount \u001B[38;5;241m-\u001B[39m new_conflict_amount\n\u001B[1;32m     16\u001B[0m     \u001B[38;5;28;01mif\u001B[39;00m improvement:\n",
      "Cell \u001B[0;32mIn[17], line 35\u001B[0m, in \u001B[0;36msuccessors\u001B[0;34m(queens, visited)\u001B[0m\n\u001B[1;32m     33\u001B[0m         copy \u001B[38;5;241m=\u001B[39m queens\u001B[38;5;241m.\u001B[39mcopy()\n\u001B[1;32m     34\u001B[0m         swap(copy, i, j)\n\u001B[0;32m---> 35\u001B[0m         best_successor \u001B[38;5;241m=\u001B[39m (copy, conflicts(copy)) \u001B[38;5;28;01mif\u001B[39;00m (\u001B[43mconflicts\u001B[49m\u001B[43m(\u001B[49m\u001B[43mcopy\u001B[49m\u001B[43m)\u001B[49m \u001B[38;5;241m<\u001B[39m\u001B[38;5;241m=\u001B[39m best_successor[\u001B[38;5;241m1\u001B[39m] \u001B[38;5;129;01mand\u001B[39;00m copy \u001B[38;5;129;01mnot\u001B[39;00m \u001B[38;5;129;01min\u001B[39;00m visited) \u001B[38;5;28;01melse\u001B[39;00m best_successor\n\u001B[1;32m     36\u001B[0m \u001B[38;5;28;01mreturn\u001B[39;00m best_successor\n",
      "Cell \u001B[0;32mIn[3], line 10\u001B[0m, in \u001B[0;36mconflicts\u001B[0;34m(queens)\u001B[0m\n\u001B[1;32m      8\u001B[0m       \u001B[38;5;28;01mcontinue\u001B[39;00m\n\u001B[1;32m      9\u001B[0m   \u001B[38;5;28;01mfor\u001B[39;00m j \u001B[38;5;129;01min\u001B[39;00m \u001B[38;5;28mrange\u001B[39m(i \u001B[38;5;241m+\u001B[39m \u001B[38;5;241m1\u001B[39m, \u001B[38;5;28mlen\u001B[39m(queens)):\n\u001B[0;32m---> 10\u001B[0m       conflicts \u001B[38;5;241m+\u001B[39m\u001B[38;5;241m=\u001B[39m \u001B[38;5;28;43mint\u001B[39;49m\u001B[43m(\u001B[49m\u001B[43mqueens\u001B[49m\u001B[43m[\u001B[49m\u001B[43mi\u001B[49m\u001B[43m]\u001B[49m\u001B[43m \u001B[49m\u001B[38;5;241;43m==\u001B[39;49m\u001B[43m \u001B[49m\u001B[43mqueens\u001B[49m\u001B[43m[\u001B[49m\u001B[43mj\u001B[49m\u001B[43m]\u001B[49m\u001B[43m \u001B[49m\u001B[38;5;129;43;01mor\u001B[39;49;00m\u001B[43m \u001B[49m\u001B[43mqueens\u001B[49m\u001B[43m[\u001B[49m\u001B[43mi\u001B[49m\u001B[43m]\u001B[49m\u001B[43m \u001B[49m\u001B[38;5;241;43m+\u001B[39;49m\u001B[43m \u001B[49m\u001B[43mj\u001B[49m\u001B[43m \u001B[49m\u001B[38;5;241;43m-\u001B[39;49m\u001B[43m \u001B[49m\u001B[43mi\u001B[49m\u001B[43m \u001B[49m\u001B[38;5;241;43m==\u001B[39;49m\u001B[43m \u001B[49m\u001B[43mqueens\u001B[49m\u001B[43m[\u001B[49m\u001B[43mj\u001B[49m\u001B[43m]\u001B[49m\u001B[43m \u001B[49m\u001B[38;5;129;43;01mor\u001B[39;49;00m\u001B[43m \u001B[49m\u001B[43mqueens\u001B[49m\u001B[43m[\u001B[49m\u001B[43mi\u001B[49m\u001B[43m]\u001B[49m\u001B[43m \u001B[49m\u001B[38;5;241;43m-\u001B[39;49m\u001B[43m \u001B[49m\u001B[43mj\u001B[49m\u001B[43m \u001B[49m\u001B[38;5;241;43m+\u001B[39;49m\u001B[43m \u001B[49m\u001B[43mi\u001B[49m\u001B[43m \u001B[49m\u001B[38;5;241;43m==\u001B[39;49m\u001B[43m \u001B[49m\u001B[43mqueens\u001B[49m\u001B[43m[\u001B[49m\u001B[43mj\u001B[49m\u001B[43m]\u001B[49m\u001B[43m)\u001B[49m\n\u001B[1;32m     11\u001B[0m \u001B[38;5;28;01mreturn\u001B[39;00m conflicts\n",
      "\u001B[0;31mKeyboardInterrupt\u001B[0m: "
     ]
    }
   ],
   "execution_count": 52
  },
  {
   "cell_type": "markdown",
   "metadata": {
    "id": "gBWd4aW8VrIi"
   },
   "source": [
    "\n",
    "\n",
    "---\n",
    "\n"
   ]
  },
  {
   "cell_type": "markdown",
   "metadata": {
    "id": "1eK7N4EZVx2S"
   },
   "source": [
    "## Travelling-Salesman Problem"
   ]
  },
  {
   "cell_type": "markdown",
   "metadata": {
    "id": "YinB0MLjWH7O"
   },
   "source": [
    "In diesem Teil soll das TSP mithilfe von Local Search approximiert werden. Für diese Aufgabe betrachten wir ausschließlich das symmetrische TSP, bei dem die Kanten der Graphen ungerichtet sind. Es gibt folglich für einen Graph nur eine Tour.\n",
    "\n",
    "Wir verwenden zur Darstellung der Graphen das Paket `networkx` (https://networkx.org/documentation/latest/). Außerdem das Paket `tsplib95` (https://tsplib95.readthedocs.io/en/stable/index.html) um die Algorithmen mit Benchmarks zu testen."
   ]
  },
  {
   "cell_type": "code",
   "execution_count": 28,
   "metadata": {
    "id": "0sKhvk2MVvPc"
   },
   "outputs": [],
   "source": [
    "import networkx as nx\n",
    "import tsplib95"
   ]
  },
  {
   "cell_type": "markdown",
   "metadata": {
    "id": "f2GFqfdfcA4_"
   },
   "source": [
    "Implementieren Sie die Funktion `import_benchmarks`, welche die verschiedenen TSP Instanzen zusammen mit den Lösungen aus dem Ordner `tsp_benchmarks` importiert und eine Liste aus Tupeln der Form `(G, optimal_solution)` zurückgibt, bestehend aus dem Graphen als `networkx`-Objekt und dem Gewicht der optimalen Lösung."
   ]
  },
  {
   "cell_type": "code",
   "execution_count": 29,
   "metadata": {
    "id": "yNANYsXiWOJ0"
   },
   "outputs": [],
   "source": [
    "def import_benchmarks(path='./tsp_benchmarks') -> list[tuple[nx.Graph, int]]:\n",
    "  pass"
   ]
  },
  {
   "cell_type": "markdown",
   "metadata": {
    "id": "hqSZBrneg_5l"
   },
   "source": [
    "Implementieren Sie nun die folgenden drei Local-Search Algorithmen um das TSP zu lösen. Genau wie beim $n$-Damen Problem, kann auch beim TSP eine Lösung als Permutation der Knoten des Graphen gesehen werden. Für das Hill-Climbing und dem Simulated Annealing, besteht eine Aktion daraus, zwei Knoten auf dem Rundweg zu vertauschen. Beim EX3-Algorithmus ist die Aktion unten beschrieben.\n",
    "\n",
    "**1. Simple Hill-Climbing**"
   ]
  },
  {
   "cell_type": "code",
   "execution_count": null,
   "metadata": {
    "id": "jvvRsiDrhAnz"
   },
   "outputs": [],
   "source": [
    "def tsp_hill_climb(G: nx.Graph) -> int:\n",
    "  pass"
   ]
  },
  {
   "cell_type": "markdown",
   "metadata": {
    "id": "ui9p3tJ4hEFP"
   },
   "source": [
    "**3. Simulated Annealing**"
   ]
  },
  {
   "cell_type": "code",
   "execution_count": null,
   "metadata": {
    "id": "IBBum7aWhPO6"
   },
   "outputs": [],
   "source": [
    "def tsp_simulated_annealing(G: nx.Graph, temperature: float) -> int:\n",
    "  pass"
   ]
  },
  {
   "cell_type": "markdown",
   "metadata": {
    "id": "8gvObqy3hA9O"
   },
   "source": [
    "**2. EX3-Algorithmus**\n",
    "\n",
    "Der EX3-Algorithmus funktioniert ähnlich wie Hill-Climbing, benutzt allerdings eine etwas andere Nachfolgerfunktion. Die Nachfolger eines Rundweges werden bestimmt, indem zunächst zufällig **drei** Kanten aus dem bisherigen Rundweg ausgewählt werden. Dies zerlegt den Rundweg in drei Teilrundwege. Für das erneute zusammenfügen gibt es danach 8 Möglichkeiten (wie im Bild unten zu sehen ist). Der Algorithmus testet nun für jede 3 Kanten alle Nachfolger und wählt denjenigen aus, der die Kosten am stärksten verringert. Dies wird so lange gemacht, bis sich der Rundweg nicht mehr verkürzt.\n",
    "\n",
    "![EX3 Visualisation](three_opt.png \"EX3\")"
   ]
  },
  {
   "cell_type": "code",
   "execution_count": null,
   "metadata": {
    "id": "isqhsSQuhD2p"
   },
   "outputs": [],
   "source": [
    "def tsp_ex3(G: nx.Graph) -> int:\n",
    "  pass"
   ]
  },
  {
   "cell_type": "markdown",
   "metadata": {
    "id": "9H5nLjNphTON"
   },
   "source": [
    "**Evaluierung**\n",
    "\n",
    "Vergleichen Sie die drei Algorithmen miteinander. Nutzen Sie dafür die bereitgestellten Benchmarks und die Länge der Optimallösung. Sie sollten Ihre Ergebnisse geeignet visualisieren."
   ]
  },
  {
   "cell_type": "code",
   "execution_count": null,
   "metadata": {
    "id": "9x6JPAoThVGi"
   },
   "outputs": [],
   "source": []
  }
 ],
 "metadata": {
  "colab": {
   "provenance": []
  },
  "kernelspec": {
   "display_name": "Python 3 (ipykernel)",
   "name": "python3",
   "language": "python"
  },
  "language_info": {
   "name": "python",
   "version": "3.12.0"
  }
 },
 "nbformat": 4,
 "nbformat_minor": 0
}
