{
  "cells": [
    {
      "cell_type": "markdown",
      "metadata": {
        "id": "9N6s6XIZVSkH"
      },
      "source": [
        "# 2. Programmierprojekt: Local Search"
      ]
    },
    {
      "cell_type": "markdown",
      "metadata": {
        "id": "qq0RVgzqwCdv"
      },
      "source": [
        "## $n$-Damen Problem\n",
        "\n",
        "Wir modellieren das $n$-Damen Problem wie folgt: Jeder Zustand im Suchraum ist eine Permutation des Vektors $(0, \\dotsc, n-1)$. Damit sind die Aktionen die von einem Zustand möglich sind Vertauschungen von Zahlen."
      ]
    },
    {
      "cell_type": "code",
      "execution_count": 26,
      "metadata": {
        "id": "3R_stlYHxPXb"
      },
      "outputs": [],
      "source": [
        "import random\n",
        "\n",
        "def generate_random_conf(n: int) -> list:\n",
        "  # Generate random permutation of (0,...,n-1)\n",
        "  conf = [i for i in range(n)]\n",
        "  random.shuffle(conf)\n",
        "  return conf\n",
        "\n",
        "def swap(conf, i, j):\n",
        "  # Swap positions i,j inplace\n",
        "  conf[i], conf[j] = conf[j], conf[i]"
      ]
    },
    {
      "cell_type": "code",
      "execution_count": 4,
      "metadata": {
        "colab": {
          "base_uri": "https://localhost:8080/"
        },
        "id": "Iw8mVsBDx4O-",
        "outputId": "09cb386c-523a-4ec4-c638-e714ea97d494"
      },
      "outputs": [
        {
          "data": {
            "text/plain": [
              "[6, 0, 1, 2, 3, 4, 7, 5]"
            ]
          },
          "execution_count": 4,
          "metadata": {},
          "output_type": "execute_result"
        }
      ],
      "source": [
        "conf = generate_random_conf(8)\n",
        "swap(conf, 3, 5)\n",
        "conf"
      ]
    },
    {
      "cell_type": "markdown",
      "metadata": {
        "id": "FHMpvoKnyN3S"
      },
      "source": [
        "Implentieren Sie die folgende Funktion `conflicts`, welche für jede Dame die Anzahl der Bedrohungen aufsummiert. Überlegen Sie, welche Art von Bedrohungen durch die Modellierung überhaupt möglich sind."
      ]
    },
    {
      "cell_type": "code",
      "execution_count": 22,
      "metadata": {
        "id": "1S6sWRomybnI"
      },
      "outputs": [],
      "source": [
        "def conflicts(queens) -> int:\n",
        "  # Returns the total number of attacks\n",
        "  pass"
      ]
    },
    {
      "cell_type": "code",
      "execution_count": 19,
      "metadata": {
        "id": "nhFg6sZTXl5p"
      },
      "outputs": [],
      "source": [
        "conf1 = [0, 1, 2, 3, 4, 5, 6, 7] # conflicts = 28\n",
        "conf2 = [17, 22, 11, 5, 2, 6, 12, 15, 21, 19, 10, 8, 0, 3, 1, 20, 23, 9, 14, 18, 13, 24, 16, 4, 7] # conflicts = 0\n",
        "conf3 = [15, 12, 9, 16, 0, 18, 6, 11, 19, 7, 13, 3, 10, 4, 1, 2, 8, 5, 14, 17] # conflicts = 12\n",
        "\n",
        "assert conflicts(conf1) == 28\n",
        "assert conflicts(conf2) == 0\n",
        "assert conflicts(conf3) == 12"
      ]
    },
    {
      "cell_type": "markdown",
      "metadata": {
        "id": "u-yjM-kIz8Qr"
      },
      "source": [
        "Nutzen sie die obige Funktion als Heuristik für den A*-Algorithmus. Testen sie bis zu welchem $n$ der Algorithmus eine Lösung in unter zwei Minuten findet. Starten Sie dabei immer von einer zufälligen Startkonfiguration."
      ]
    },
    {
      "cell_type": "code",
      "execution_count": 23,
      "metadata": {
        "id": "6yeRq0gn0gjM"
      },
      "outputs": [],
      "source": [
        "def queens_a_star(n: int) -> list[int]:\n",
        "  # Find solution with A*\n",
        "  pass"
      ]
    },
    {
      "cell_type": "markdown",
      "metadata": {
        "id": "kfMTbo_l1_Pp"
      },
      "source": [
        "Wir wollen im Folgenden einen Local-Search Ansatz nutzen, um das Problem zu lösen. Implementieren Sie nun den Hill-Climbing Algorithmus aus der Vorlesung. Der Algorithmus sollte zusätzlich maximal $k$ Seitwärtszüge erlauben."
      ]
    },
    {
      "cell_type": "code",
      "execution_count": 24,
      "metadata": {
        "id": "pDdm-hqb2Wpb"
      },
      "outputs": [],
      "source": [
        "def queens_hill_climb(n, k=0) -> tuple[list[int], int]:\n",
        "  # Searches solution by hill-climbing\n",
        "  # returns tuple (conf, conflicts)\n",
        "  pass"
      ]
    },
    {
      "cell_type": "markdown",
      "metadata": {
        "id": "-5hK4u0O2-Nl"
      },
      "source": [
        "Evaluieren Sie den Algorithmus empirisch. Testen sie für verschiedene $n$ und $k$, wie groß die Erfolgsrate des Algorithmus ist. Überlegen Sie sich eine geeignete Visualisierung ihrer Ergebnisse."
      ]
    },
    {
      "cell_type": "code",
      "execution_count": null,
      "metadata": {
        "id": "tCE0RmxS3WI5"
      },
      "outputs": [],
      "source": [
        "n_samples = 200\n",
        "k = [0, 5, 10, 20, 50, 100]\n",
        "\n",
        "# evaluate here"
      ]
    },
    {
      "cell_type": "markdown",
      "metadata": {
        "id": "BBOnIDEk4dv_"
      },
      "source": [
        "Implementieren sie nun Hill-Climbing mit Random-Restarts, um immer optimale Lösungen zu finden. Berechnen Sie auch, wie viele Restarts nötig waren, um eine optimale Lösung zu finden. Bis zu welchem $n$ können sie mit diesem Ansatz in weniger als zwei Minuten Lösungen finden? (Probieren sie auch verschiedene $k$)"
      ]
    },
    {
      "cell_type": "code",
      "execution_count": 25,
      "metadata": {
        "id": "GBPlFDaXAtoM"
      },
      "outputs": [],
      "source": [
        "def queens_random_restart(n, k=0) -> tuple[list[int], int]:\n",
        "  # searches solution for given n by random-restart hill-climbing\n",
        "  # returns tuple (conf, restarts)\n",
        "  pass"
      ]
    },
    {
      "cell_type": "markdown",
      "metadata": {
        "id": "DZTWMO4DVhWQ"
      },
      "source": [
        "Eine weitere Verbesserung kann erreicht werden, in dem die initiale Konfiguration nicht rein zufällig gewählt wird. Es kann versucht werden, anfangs eine Konfiguration zu finden, in der möglichst viele Damen bereits konfliktfrei gesetzt sind. Die restlichen Damen sollten dann mit möglichst wenigen Konflikten gesetzt werden.\n",
        "\n",
        "Implementieren Sie darauf basierend einen verbesserten Generator für die Startkonfiguration und testen Sie, ob damit noch größere Probleminstanzen gelöst werden können."
      ]
    },
    {
      "cell_type": "code",
      "execution_count": null,
      "metadata": {},
      "outputs": [],
      "source": [
        "def better_initial_configuration(n: int) -> list[int]:\n",
        "    pass"
      ]
    },
    {
      "cell_type": "code",
      "execution_count": null,
      "metadata": {},
      "outputs": [],
      "source": [
        "# evaluate here"
      ]
    },
    {
      "cell_type": "markdown",
      "metadata": {
        "id": "gBWd4aW8VrIi"
      },
      "source": [
        "\n",
        "\n",
        "---\n",
        "\n"
      ]
    },
    {
      "cell_type": "markdown",
      "metadata": {
        "id": "1eK7N4EZVx2S"
      },
      "source": [
        "## Travelling-Salesman Problem"
      ]
    },
    {
      "cell_type": "markdown",
      "metadata": {
        "id": "YinB0MLjWH7O"
      },
      "source": [
        "In diesem Teil soll das TSP mithilfe von Local Search approximiert werden. Für diese Aufgabe betrachten wir ausschließlich das symmetrische TSP, bei dem die Kanten der Graphen ungerichtet sind. Es gibt folglich für einen Graph nur eine Tour.\n",
        "\n",
        "Wir verwenden zur Darstellung der Graphen das Paket `networkx` (https://networkx.org/documentation/latest/). Außerdem das Paket `tsplib95` (https://tsplib95.readthedocs.io/en/stable/index.html) um die Algorithmen mit Benchmarks zu testen."
      ]
    },
    {
      "cell_type": "code",
      "execution_count": 28,
      "metadata": {
        "id": "0sKhvk2MVvPc"
      },
      "outputs": [],
      "source": [
        "import networkx as nx\n",
        "import tsplib95"
      ]
    },
    {
      "cell_type": "markdown",
      "metadata": {
        "id": "f2GFqfdfcA4_"
      },
      "source": [
        "Implementieren Sie die Funktion `import_benchmarks`, welche die verschiedenen TSP Instanzen zusammen mit den Lösungen aus dem Ordner `tsp_benchmarks` importiert und eine Liste aus Tupeln der Form `(G, optimal_solution)` zurückgibt, bestehend aus dem Graphen als `networkx`-Objekt und dem Gewicht der optimalen Lösung."
      ]
    },
    {
      "cell_type": "code",
      "execution_count": 29,
      "metadata": {
        "id": "yNANYsXiWOJ0"
      },
      "outputs": [],
      "source": [
        "def import_benchmarks(path='./tsp_benchmarks') -> list[tuple[nx.Graph, int]]:\n",
        "  pass"
      ]
    },
    {
      "cell_type": "markdown",
      "metadata": {
        "id": "hqSZBrneg_5l"
      },
      "source": [
        "Implementieren Sie nun die folgenden drei Local-Search Algorithmen um das TSP zu lösen. Genau wie beim $n$-Damen Problem, kann auch beim TSP eine Lösung als Permutation der Knoten des Graphen gesehen werden. Für das Hill-Climbing und dem Simulated Annealing, besteht eine Aktion daraus, zwei Knoten auf dem Rundweg zu vertauschen. Beim EX3-Algorithmus ist die Aktion unten beschrieben.\n",
        "\n",
        "**1. Simple Hill-Climbing**"
      ]
    },
    {
      "cell_type": "code",
      "execution_count": null,
      "metadata": {
        "id": "jvvRsiDrhAnz"
      },
      "outputs": [],
      "source": [
        "def tsp_hill_climb(G: nx.Graph) -> int:\n",
        "  pass"
      ]
    },
    {
      "cell_type": "markdown",
      "metadata": {
        "id": "ui9p3tJ4hEFP"
      },
      "source": [
        "**3. Simulated Annealing**"
      ]
    },
    {
      "cell_type": "code",
      "execution_count": null,
      "metadata": {
        "id": "IBBum7aWhPO6"
      },
      "outputs": [],
      "source": [
        "def tsp_simulated_annealing(G: nx.Graph, temperature: float) -> int:\n",
        "  pass"
      ]
    },
    {
      "cell_type": "markdown",
      "metadata": {
        "id": "8gvObqy3hA9O"
      },
      "source": [
        "**2. EX3-Algorithmus**\n",
        "\n",
        "Der EX3-Algorithmus funktioniert ähnlich wie Hill-Climbing, benutzt allerdings eine etwas andere Nachfolgerfunktion. Die Nachfolger eines Rundweges werden bestimmt, indem zunächst zufällig **drei** Kanten aus dem bisherigen Rundweg ausgewählt werden. Dies zerlegt den Rundweg in drei Teilrundwege. Für das erneute zusammenfügen gibt es danach 8 Möglichkeiten (wie im Bild unten zu sehen ist). Der Algorithmus testet nun für jede 3 Kanten alle Nachfolger und wählt denjenigen aus, der die Kosten am stärksten verringert. Dies wird so lange gemacht, bis sich der Rundweg nicht mehr verkürzt.\n",
        "\n",
        "![EX3 Visualisation](three_opt.png \"EX3\")"
      ]
    },
    {
      "cell_type": "code",
      "execution_count": null,
      "metadata": {
        "id": "isqhsSQuhD2p"
      },
      "outputs": [],
      "source": [
        "def tsp_ex3(G: nx.Graph) -> int:\n",
        "  pass"
      ]
    },
    {
      "cell_type": "markdown",
      "metadata": {
        "id": "9H5nLjNphTON"
      },
      "source": [
        "**Evaluierung**\n",
        "\n",
        "Vergleichen Sie die drei Algorithmen miteinander. Nutzen Sie dafür die bereitgestellten Benchmarks und die Länge der Optimallösung. Sie sollten Ihre Ergebnisse geeignet visualisieren."
      ]
    },
    {
      "cell_type": "code",
      "execution_count": null,
      "metadata": {
        "id": "9x6JPAoThVGi"
      },
      "outputs": [],
      "source": []
    }
  ],
  "metadata": {
    "colab": {
      "provenance": []
    },
    "kernelspec": {
      "display_name": "Python 3",
      "name": "python3"
    },
    "language_info": {
      "name": "python",
      "version": "3.12.0"
    }
  },
  "nbformat": 4,
  "nbformat_minor": 0
}
