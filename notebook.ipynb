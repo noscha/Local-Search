{
 "cells": [
  {
   "cell_type": "markdown",
   "metadata": {},
   "source": [
    "# 2. Programmierprojekt: Local Search"
   ]
  },
  {
   "cell_type": "markdown",
   "metadata": {},
   "source": [
    "## $n$-Damen Problem\n",
    "\n",
    "Wir modellieren das $n$-Damen Problem wie folgt: Jeder Zustand im Suchraum ist eine Permutation des Vektors $(0, \\dotsc, n-1)$. Damit sind die Aktionen die von einem Zustand möglich sind Vertauschungen von Zahlen."
   ]
  },
  {
   "cell_type": "code",
   "execution_count": null,
   "metadata": {
    "ExecuteTime": {
     "end_time": "2024-06-03T17:53:22.549372Z",
     "start_time": "2024-06-03T17:53:22.529081Z"
    },
    "id": "3R_stlYHxPXb"
   },
   "outputs": [],
   "source": [
    "import random\n",
    "\n",
    "\n",
    "def generate_random_conf(n: int) -> list:\n",
    "    # Generate random permutation of (0,...,n-1)\n",
    "    conf = [i for i in range(n)]\n",
    "    random.shuffle(conf)\n",
    "    return conf\n",
    "\n",
    "\n",
    "def swap(conf, i, j):\n",
    "    # Swap positions i,j inplace\n",
    "    conf[i], conf[j] = conf[j], conf[i]"
   ]
  },
  {
   "cell_type": "code",
   "execution_count": null,
   "metadata": {
    "ExecuteTime": {
     "end_time": "2024-06-03T17:53:22.615411Z",
     "start_time": "2024-06-03T17:53:22.589269Z"
    },
    "colab": {
     "base_uri": "https://localhost:8080/"
    },
    "id": "Iw8mVsBDx4O-",
    "outputId": "09cb386c-523a-4ec4-c638-e714ea97d494"
   },
   "outputs": [],
   "source": [
    "conf = generate_random_conf(8)\n",
    "swap(conf, 3, 5)\n",
    "conf"
   ]
  },
  {
   "cell_type": "markdown",
   "metadata": {
    "id": "FHMpvoKnyN3S"
   },
   "source": [
    "Implentieren Sie die folgende Funktion `conflicts`, welche für jede Dame die Anzahl der Bedrohungen aufsummiert. Überlegen Sie, welche Art von Bedrohungen durch die Modellierung überhaupt möglich sind."
   ]
  },
  {
   "cell_type": "code",
   "execution_count": null,
   "metadata": {
    "ExecuteTime": {
     "end_time": "2024-06-03T17:53:22.734158Z",
     "start_time": "2024-06-03T17:53:22.723924Z"
    },
    "id": "1S6sWRomybnI"
   },
   "outputs": [],
   "source": [
    "def conflicts(queens) -> int:\n",
    "    \"\"\" Heuristic that indicates number of beatable queens on the right \"\"\"\n",
    "\n",
    "    conflicts = 0\n",
    "    for i in range(len(queens)):\n",
    "        # For better initialization\n",
    "        if queens[i] == float(\"-inf\"):\n",
    "            continue\n",
    "        for j in range(i + 1, len(queens)):\n",
    "            conflicts += int(queens[i] == queens[j] or queens[i] + j - i == queens[j] or queens[i] - j + i == queens[j])\n",
    "    return conflicts"
   ]
  },
  {
   "cell_type": "code",
   "execution_count": null,
   "metadata": {
    "ExecuteTime": {
     "end_time": "2024-06-03T17:53:23.287451Z",
     "start_time": "2024-06-03T17:53:23.274515Z"
    },
    "id": "nhFg6sZTXl5p"
   },
   "outputs": [],
   "source": [
    "conf1 = [0, 1, 2, 3, 4, 5, 6, 7]  # conflicts = 28\n",
    "conf2 = [17, 22, 11, 5, 2, 6, 12, 15, 21, 19, 10, 8, 0, 3, 1, 20, 23, 9, 14, 18, 13, 24, 16, 4, 7]  # conflicts = 0\n",
    "conf3 = [15, 12, 9, 16, 0, 18, 6, 11, 19, 7, 13, 3, 10, 4, 1, 2, 8, 5, 14, 17]  # conflicts = 12\n",
    "\n",
    "assert conflicts(conf1) == 28\n",
    "assert conflicts(conf2) == 0\n",
    "assert conflicts(conf3) == 12"
   ]
  },
  {
   "cell_type": "markdown",
   "metadata": {
    "id": "u-yjM-kIz8Qr"
   },
   "source": [
    "Nutzen sie die obige Funktion als Heuristik für den A*-Algorithmus. Testen sie bis zu welchem $n$ der Algorithmus eine Lösung in unter zwei Minuten findet. Starten Sie dabei immer von einer zufälligen Startkonfiguration."
   ]
  },
  {
   "cell_type": "code",
   "execution_count": null,
   "metadata": {
    "ExecuteTime": {
     "end_time": "2024-06-03T17:53:23.798427Z",
     "start_time": "2024-06-03T17:53:23.778988Z"
    },
    "id": "6yeRq0gn0gjM"
   },
   "outputs": [],
   "source": [
    "from queue import PriorityQueue\n",
    "\n",
    "\n",
    "def queens_a_star(n: int) -> list[int]:\n",
    "    \"\"\" Find solution with A*; not feasible for n >= 50 \"\"\"\n",
    "\n",
    "    conf = generate_random_conf(n)\n",
    "\n",
    "    queue = PriorityQueue()\n",
    "    # stores f, h, g, configuration\n",
    "    queue.put((conflicts(conf), conflicts(conf), 0, conf))\n",
    "    visited = []\n",
    "\n",
    "    while not queue.empty():\n",
    "        entry = queue.get()\n",
    "        g_score, state = entry[2], entry[3]\n",
    "        visited.append(state)\n",
    "\n",
    "        for successor in successors_astar(state):\n",
    "            if not conflicts(successor):\n",
    "                return successor\n",
    "            if successor in visited:\n",
    "                continue\n",
    "\n",
    "            new_g_score = g_score + 1\n",
    "            h = conflicts(successor)\n",
    "            f_score = h + new_g_score\n",
    "            queue.put((f_score, h, new_g_score, successor))\n",
    "            visited.append(successor)\n",
    "\n",
    "    return [-1]\n",
    "\n",
    "\n",
    "def successors_astar(queens) -> list[list[int]]:\n",
    "    \"\"\" Returns list of successor states; action is swapping \"\"\"\n",
    "    successors = []\n",
    "    for i in range(len(queens)):\n",
    "        for j in range(i + 1, len(queens)):\n",
    "            copy = queens.copy()\n",
    "            swap(copy, i, j)\n",
    "            successors.append(copy)\n",
    "    return successors"
   ]
  },
  {
   "cell_type": "markdown",
   "metadata": {
    "id": "kfMTbo_l1_Pp"
   },
   "source": [
    "Wir wollen im Folgenden einen Local-Search Ansatz nutzen, um das Problem zu lösen. Implementieren Sie nun den Hill-Climbing Algorithmus aus der Vorlesung. Der Algorithmus sollte zusätzlich maximal $k$ Seitwärtszüge erlauben."
   ]
  },
  {
   "cell_type": "code",
   "execution_count": null,
   "metadata": {
    "ExecuteTime": {
     "end_time": "2024-06-03T17:53:24.051224Z",
     "start_time": "2024-06-03T17:53:24.028204Z"
    },
    "id": "pDdm-hqb2Wpb"
   },
   "outputs": [],
   "source": [
    "def queens_hill_climb(n, k=0) -> tuple[list[int], int]:\n",
    "    return hill_climb_core(generate_random_conf(n), k)\n",
    "\n",
    "\n",
    "def hill_climb_core(conf, k=0) -> tuple[list[int], int]:\n",
    "    \"\"\" Searches solution by hill-climbing; k: possible side steps \"\"\"\n",
    "    conflicts_amount = conflicts(conf)\n",
    "    improvement, side_steps = 1, 0\n",
    "    visited = []\n",
    "\n",
    "    while side_steps <= k and conflicts_amount != 0:\n",
    "        visited.append(conf)\n",
    "        new_conf, new_conflict_amount = successors(conf, visited)\n",
    "\n",
    "        improvement = conflicts_amount - new_conflict_amount\n",
    "\n",
    "        if improvement:\n",
    "            side_steps = 0\n",
    "        else:\n",
    "            side_steps += 1\n",
    "\n",
    "        conf, conflicts_amount = new_conf, new_conflict_amount\n",
    "\n",
    "    return conf, conflicts(conf)\n",
    "\n",
    "\n",
    "def successors(queens, visited) -> list[list[int]]:\n",
    "    \"\"\" Returns best successor\"\"\"\n",
    "    best_successor = (queens, conflicts(queens))\n",
    "    for i in range(len(queens)):\n",
    "        for j in range(i + 1, len(queens)):\n",
    "            copy = queens.copy()\n",
    "            swap(copy, i, j)\n",
    "            best_successor = (copy, conflicts(copy)) if (\n",
    "                        conflicts(copy) <= best_successor[1] and copy not in visited) else best_successor\n",
    "    return best_successor\n"
   ]
  },
  {
   "cell_type": "markdown",
   "metadata": {
    "id": "-5hK4u0O2-Nl"
   },
   "source": [
    "Evaluieren Sie den Algorithmus empirisch. Testen sie für verschiedene $n$ und $k$, wie groß die Erfolgsrate des Algorithmus ist. Überlegen Sie sich eine geeignete Visualisierung ihrer Ergebnisse."
   ]
  },
  {
   "cell_type": "code",
   "execution_count": null,
   "metadata": {
    "ExecuteTime": {
     "end_time": "2024-06-03T17:56:36.165061Z",
     "start_time": "2024-06-03T17:53:24.254552Z"
    },
    "id": "tCE0RmxS3WI5"
   },
   "outputs": [],
   "source": [
    "n_samples = 40\n",
    "k = [0, 5, 10, 20, 50, 100]\n",
    "\n",
    "total_amount, total_hits = 0, 0\n",
    "for i in k:\n",
    "    amount, hits = 0, 0\n",
    "    for n in range(8, n_samples):\n",
    "        amount += 1\n",
    "        hits += int(not queens_hill_climb(n, i)[1])\n",
    "    print(\"Success rate for k = \" + str(i) + \" : \" + str((hits / amount) * 100) + \"%\")\n",
    "    total_amount += amount\n",
    "    total_hits += hits\n",
    "print(\"Overall success rate: \" + str((total_hits / total_amount) * 100) + \"%\")"
   ]
  },
  {
   "cell_type": "markdown",
   "metadata": {
    "id": "BBOnIDEk4dv_"
   },
   "source": [
    "Implementieren sie nun Hill-Climbing mit Random-Restarts, um immer optimale Lösungen zu finden. Berechnen Sie auch, wie viele Restarts nötig waren, um eine optimale Lösung zu finden. Bis zu welchem $n$ können sie mit diesem Ansatz in weniger als zwei Minuten Lösungen finden? (Probieren sie auch verschiedene $k$)"
   ]
  },
  {
   "cell_type": "code",
   "execution_count": null,
   "metadata": {
    "ExecuteTime": {
     "end_time": "2024-06-03T17:56:36.194912Z",
     "start_time": "2024-06-03T17:56:36.177768Z"
    },
    "id": "GBPlFDaXAtoM"
   },
   "outputs": [],
   "source": [
    "def queens_random_restart(n, k=0) -> tuple[list[int], int]:\n",
    "    \"\"\" Restart hill climbing till solution is found; not feasible for n >= 65 \"\"\"\n",
    "    restart = 0\n",
    "    conf, conflict_amount = queens_hill_climb(n, k)\n",
    "    while conflict_amount:\n",
    "        restart += 1\n",
    "        conf, conflict_amount = queens_hill_climb(n, k)\n",
    "    return conf, restart"
   ]
  },
  {
   "cell_type": "markdown",
   "metadata": {
    "id": "DZTWMO4DVhWQ"
   },
   "source": [
    "Eine weitere Verbesserung kann erreicht werden, in dem die initiale Konfiguration nicht rein zufällig gewählt wird. Es kann versucht werden, anfangs eine Konfiguration zu finden, in der möglichst viele Damen bereits konfliktfrei gesetzt sind. Die restlichen Damen sollten dann mit möglichst wenigen Konflikten gesetzt werden.\n",
    "\n",
    "Implementieren Sie darauf basierend einen verbesserten Generator für die Startkonfiguration und testen Sie, ob damit noch größere Probleminstanzen gelöst werden können."
   ]
  },
  {
   "cell_type": "code",
   "execution_count": null,
   "metadata": {
    "ExecuteTime": {
     "end_time": "2024-06-03T17:56:36.662815Z",
     "start_time": "2024-06-03T17:56:36.203917Z"
    }
   },
   "outputs": [],
   "source": [
    "\n",
    "import numpy as np\n",
    "\n",
    "\n",
    "def better_initial_configuration(n: int, k=0) -> tuple[list[int], int]:\n",
    "    \"\"\" Initialize conf with minimal conflicts \"\"\"\n",
    "    conf = [float(\"-inf\")] * n\n",
    "    possible_queens = [i for i in range(n)]\n",
    "    conf[0] = possible_queens.pop(randrange(n))\n",
    "    f = np.zeros((n, n), int)\n",
    "    update(f, 0, conf[0])\n",
    "    for i in range(1, n):\n",
    "        copy = conf.copy()\n",
    "        min_conflicts = possible_queens[0], float(\"inf\")  # index, overlap_amount\n",
    "\n",
    "        for j in possible_queens:\n",
    "            f_c = np.copy(f)\n",
    "            update(f_c, i, j)\n",
    "            if f_c.sum() <= min_conflicts[1]:\n",
    "                min_conflicts = j, f_c.sum()\n",
    "\n",
    "        conf[i] = min_conflicts[0]\n",
    "        update(f, i, conf[i])\n",
    "        possible_queens.remove(conf[i])\n",
    "    return hill_climb_core(conf, k)\n",
    "\n",
    "\n",
    "def update(f, x, y):\n",
    "    f[:, x] = 0\n",
    "    f[y, :] = 0\n",
    "    i, j = 1, 1\n",
    "\n",
    "    while x + i < f.shape[0] and y + i < f.shape[0]:\n",
    "        f[y + i, x + i] = 1\n",
    "        i += 1\n",
    "\n",
    "    while x + j < f.shape[0] and y - j > -1:\n",
    "        f[y - j, x + j] = 1\n",
    "        j += 1"
   ]
  },
  {
   "cell_type": "code",
   "execution_count": null,
   "metadata": {
    "ExecuteTime": {
     "end_time": "2024-06-03T18:01:22.720963Z",
     "start_time": "2024-06-03T17:56:36.668014Z"
    }
   },
   "outputs": [],
   "source": [
    "n_samples = 40\n",
    "k = [0, 5, 10, 20, 50, 100]\n",
    "\n",
    "total_amount, total_hits = 0, 0\n",
    "for i in k:\n",
    "    amount, hits = 0, 0\n",
    "    for n in range(8, n_samples):\n",
    "        amount += 1\n",
    "        hits += int(not better_initial_configuration(n, i)[1])\n",
    "    print(\"Success rate for k = \" + str(i) + \" : \" + str((hits / amount) * 100) + \"%\")\n",
    "    total_amount += amount\n",
    "    total_hits += hits\n",
    "print(\"Overall success rate: \" + str((total_hits / total_amount) * 100) + \"%\")"
   ]
  },
  {
   "cell_type": "markdown",
   "metadata": {
    "id": "1eK7N4EZVx2S"
   },
   "source": [
    "## Travelling-Salesman Problem"
   ]
  },
  {
   "cell_type": "markdown",
   "metadata": {
    "id": "YinB0MLjWH7O"
   },
   "source": [
    "In diesem Teil soll das TSP mithilfe von Local Search approximiert werden. Für diese Aufgabe betrachten wir ausschließlich das symmetrische TSP, bei dem die Kanten der Graphen ungerichtet sind. Es gibt folglich für einen Graph nur eine Tour.\n",
    "\n",
    "Wir verwenden zur Darstellung der Graphen das Paket `networkx` (https://networkx.org/documentation/latest/). Außerdem das Paket `tsplib95` (https://tsplib95.readthedocs.io/en/stable/index.html) um die Algorithmen mit Benchmarks zu testen."
   ]
  },
  {
   "cell_type": "code",
   "execution_count": null,
   "metadata": {
    "ExecuteTime": {
     "end_time": "2024-06-03T18:01:23.309430Z",
     "start_time": "2024-06-03T18:01:22.730394Z"
    },
    "id": "0sKhvk2MVvPc"
   },
   "outputs": [],
   "source": [
    "import networkx as nx\n",
    "import tsplib95\n",
    "from random import randrange\n",
    "from pathlib import Path\n",
    "import math"
   ]
  },
  {
   "cell_type": "markdown",
   "metadata": {
    "id": "f2GFqfdfcA4_"
   },
   "source": [
    "Implementieren Sie die Funktion `import_benchmarks`, welche die verschiedenen TSP Instanzen zusammen mit den Lösungen aus dem Ordner `tsp_benchmarks` importiert und eine Liste aus Tupeln der Form `(G, optimal_solution)` zurückgibt, bestehend aus dem Graphen als `networkx`-Objekt und dem Gewicht der optimalen Lösung."
   ]
  },
  {
   "cell_type": "code",
   "execution_count": null,
   "metadata": {
    "ExecuteTime": {
     "end_time": "2024-06-03T18:01:24.491915Z",
     "start_time": "2024-06-03T18:01:23.313152Z"
    },
    "id": "yNANYsXiWOJ0"
   },
   "outputs": [],
   "source": [
    "def import_benchmarks(path='./tsp_benchmarks') -> list[tuple[nx.Graph, int]]:\n",
    "    tsp_list = []\n",
    "    paths = Path(path).rglob('*.opt.tour')\n",
    "    for filepath in paths:\n",
    "        solution = tsplib95.load(str(filepath))\n",
    "        problem = tsplib95.load(str(filepath)[:-8] + 'tsp')\n",
    "\n",
    "        # large graphs are not feasible for our algorithms\n",
    "        if len(list(problem.get_nodes())) > 70:\n",
    "            continue\n",
    "\n",
    "        try:\n",
    "            optimal_weight = problem.trace_tours(solution.tours)[0]\n",
    "            tsp_list.append((problem.get_graph(normalize=True), optimal_weight))\n",
    "        except:\n",
    "            pass\n",
    "    return tsp_list\n"
   ]
  },
  {
   "cell_type": "markdown",
   "metadata": {
    "id": "hqSZBrneg_5l"
   },
   "source": [
    "Implementieren Sie nun die folgenden drei Local-Search Algorithmen um das TSP zu lösen. Genau wie beim $n$-Damen Problem, kann auch beim TSP eine Lösung als Permutation der Knoten des Graphen gesehen werden. Für das Hill-Climbing und dem Simulated Annealing, besteht eine Aktion daraus, zwei Knoten auf dem Rundweg zu vertauschen. Beim EX3-Algorithmus ist die Aktion unten beschrieben.\n",
    "\n",
    "**1. Simple Hill-Climbing**"
   ]
  },
  {
   "cell_type": "code",
   "execution_count": null,
   "metadata": {
    "ExecuteTime": {
     "end_time": "2024-06-03T18:01:24.515210Z",
     "start_time": "2024-06-03T18:01:24.494925Z"
    },
    "id": "jvvRsiDrhAnz"
   },
   "outputs": [],
   "source": [
    "def successors_hc(G, conf, visited) -> list[list[int]]:\n",
    "    \"\"\" Returns best successor \"\"\"\n",
    "    best_successor = (conf, calculate_tour_cost(G, conf))\n",
    "    for i in range(len(conf)):\n",
    "        for j in range(len(conf)):\n",
    "            if i == j:\n",
    "                continue\n",
    "            copy = conf.copy()\n",
    "            swap(copy, i, j)\n",
    "            best_successor = (copy, calculate_tour_cost(G, copy)) if (\n",
    "                        calculate_tour_cost(G, copy) <= best_successor[1] and copy not in visited) else best_successor\n",
    "    return best_successor\n",
    "\n",
    "\n",
    "def tsp_hill_climb(G: nx.Graph, succ=successors_hc) -> int:\n",
    "    \"\"\" Simple Hill Climbing \"\"\"\n",
    "    conf = list(G.nodes)\n",
    "    tour_cost = calculate_tour_cost(G, conf)\n",
    "    visited = []\n",
    "    improvement = 1\n",
    "    while improvement:\n",
    "        visited.append(conf)\n",
    "        new_conf, new_tour_cost = succ(G, conf, visited)\n",
    "        improvement = tour_cost - new_tour_cost\n",
    "\n",
    "        conf, tour_cost = new_conf, new_tour_cost\n",
    "    return calculate_tour_cost(G, conf)\n",
    "\n",
    "\n",
    "def calculate_tour_cost(G, t) -> int:\n",
    "    \"\"\" Given tour add start to end, then return cost \"\"\"\n",
    "    total_cost = 0\n",
    "    tour = t + [t[0]]\n",
    "    for i in range(len(tour) - 1):\n",
    "        u, v = tour[i], tour[i + 1]\n",
    "        # Add the weight of the edge (u, v)\n",
    "        total_cost += G[u][v]['weight']\n",
    "    return total_cost"
   ]
  },
  {
   "cell_type": "markdown",
   "metadata": {
    "id": "ui9p3tJ4hEFP"
   },
   "source": [
    "**3. Simulated Annealing**"
   ]
  },
  {
   "cell_type": "code",
   "execution_count": null,
   "metadata": {
    "ExecuteTime": {
     "end_time": "2024-06-03T18:01:24.538576Z",
     "start_time": "2024-06-03T18:01:24.523627Z"
    },
    "id": "IBBum7aWhPO6"
   },
   "outputs": [],
   "source": [
    "def tsp_simulated_annealing(G: nx.Graph, temperature: float) -> int:\n",
    "    \"\"\" Takes worse steps dependent on temperature \"\"\"\n",
    "    conf = list(G.nodes)\n",
    "    tour_cost = calculate_tour_cost(G, conf)\n",
    "    visited = []\n",
    "\n",
    "    while temperature > 0:\n",
    "\n",
    "        visited.append(conf)\n",
    "        successor = conf.copy()\n",
    "        i, j = randrange(len(conf)), randrange(len(conf))\n",
    "        swap(successor, i, j)\n",
    "        new_tour_cost = calculate_tour_cost(G, successor)\n",
    "\n",
    "        delta = tour_cost - new_tour_cost\n",
    "        if delta > 0:\n",
    "            conf = successor\n",
    "            tour_cost = new_tour_cost\n",
    "        else:\n",
    "            p = math.exp(delta / temperature)\n",
    "            if random.random() <= p:\n",
    "                conf = successor\n",
    "                tour_cost = new_tour_cost\n",
    "\n",
    "        temperature -= 0.1\n",
    "    return tour_cost"
   ]
  },
  {
   "cell_type": "markdown",
   "metadata": {
    "id": "8gvObqy3hA9O"
   },
   "source": [
    "**2. EX3-Algorithmus**\n",
    "\n",
    "Der EX3-Algorithmus funktioniert ähnlich wie Hill-Climbing, benutzt allerdings eine etwas andere Nachfolgerfunktion. Die Nachfolger eines Rundweges werden bestimmt, indem zunächst zufällig **drei** Kanten aus dem bisherigen Rundweg ausgewählt werden. Dies zerlegt den Rundweg in drei Teilrundwege. Für das erneute zusammenfügen gibt es danach 8 Möglichkeiten (wie im Bild unten zu sehen ist). Der Algorithmus testet nun für jede 3 Kanten alle Nachfolger und wählt denjenigen aus, der die Kosten am stärksten verringert. Dies wird so lange gemacht, bis sich der Rundweg nicht mehr verkürzt.\n",
    "\n",
    "![EX3 Visualisation](three_opt.png \"EX3\")"
   ]
  },
  {
   "cell_type": "code",
   "execution_count": null,
   "metadata": {
    "ExecuteTime": {
     "end_time": "2024-06-03T18:01:24.563157Z",
     "start_time": "2024-06-03T18:01:24.543234Z"
    },
    "id": "isqhsSQuhD2p"
   },
   "outputs": [],
   "source": [
    "def successors_ex3(G, conf, visited) -> list[list[int]]:\n",
    "    \"\"\" Returns best successor of ex3 \"\"\"\n",
    "    best_successor = (conf, calculate_tour_cost(G, conf))\n",
    "    l = len(conf)\n",
    "    n = sorted([randrange(l), randrange(l), randrange(l)])\n",
    "    while n[1] - n[0] < 2 or n[2] - n[1] < 2:\n",
    "        n = sorted([randrange(l), randrange(l), randrange(l)])\n",
    "    x, y, z = n[0], n[1], n[2]\n",
    "    copy = conf.copy()\n",
    "    edge_z = copy[x:x + 2]\n",
    "    edge_o = copy[y:y + 2]\n",
    "    edge_t = copy[z:z + 2]\n",
    "\n",
    "    z_to_o = copy[x + 2:y]\n",
    "    o_to_t = copy[y + 2:z]\n",
    "    t_to_z = copy[z + 2::] + copy[0:x]\n",
    "\n",
    "    a = edge_z + z_to_o + edge_o + o_to_t + edge_t + t_to_z\n",
    "    b = edge_z[::-1] + z_to_o + edge_o + o_to_t + edge_t + t_to_z\n",
    "    c = edge_z + z_to_o + edge_o[::-1] + o_to_t + edge_t + t_to_z\n",
    "    d = edge_z + z_to_o + edge_o + o_to_t + edge_t[::-1] + t_to_z\n",
    "    e = edge_z[::-1] + z_to_o + edge_o[::-1] + o_to_t + edge_t + t_to_z\n",
    "    f = edge_z[::-1] + z_to_o + edge_o + o_to_t + edge_t[::-1] + t_to_z\n",
    "    g = edge_z + z_to_o + edge_o[::-1] + o_to_t + edge_t[::-1] + t_to_z\n",
    "    h = edge_z[::-1] + z_to_o + edge_o[::-1] + o_to_t + edge_t[::-1] + t_to_z\n",
    "    possible_successors = [a, b, c, d, e, f, g, h]\n",
    "\n",
    "    for s in possible_successors:\n",
    "        best_successor = (s, calculate_tour_cost(G, s)) if (\n",
    "                    calculate_tour_cost(G, s) <= best_successor[1] and s not in visited) else best_successor\n",
    "    return best_successor\n",
    "\n",
    "\n",
    "def tsp_ex3(G: nx.Graph) -> int:\n",
    "    return tsp_hill_climb(G, successors_ex3)\n"
   ]
  },
  {
   "cell_type": "markdown",
   "metadata": {
    "id": "9H5nLjNphTON"
   },
   "source": [
    "**Evaluierung**\n",
    "\n",
    "Vergleichen Sie die drei Algorithmen miteinander. Nutzen Sie dafür die bereitgestellten Benchmarks und die Länge der Optimallösung. Sie sollten Ihre Ergebnisse geeignet visualisieren."
   ]
  },
  {
   "cell_type": "code",
   "execution_count": null,
   "metadata": {
    "ExecuteTime": {
     "end_time": "2024-06-03T18:02:19.747212Z",
     "start_time": "2024-06-03T18:01:24.570265Z"
    },
    "id": "9x6JPAoThVGi"
   },
   "outputs": [],
   "source": [
    "tsp_list = import_benchmarks()\n",
    "average_deviation_hc, average_deviation_sa, average_deviation_ex = 0, 0, 0\n",
    "for tsp in tsp_list:\n",
    "    hc, sa, ex, opt = tsp_hill_climb(tsp[0]), tsp_simulated_annealing(tsp[0], 1000), tsp_ex3(tsp[0]), tsp[1]\n",
    "    average_deviation_hc += (hc / opt - 1) * 100\n",
    "    average_deviation_sa += (sa / opt - 1) * 100\n",
    "    average_deviation_ex += (ex / opt - 1) * 100\n",
    "l = len(tsp_list)\n",
    "print(\"Average deviation from optimum    HC: \" + str(average_deviation_hc / l) + \"%, SA: \" + str(\n",
    "    average_deviation_sa / l) + \"%, EX3: \" + str(average_deviation_ex / l) + \"%\") "
   ]
  }
 ],
 "metadata": {
  "colab": {
   "provenance": []
  },
  "kernelspec": {
   "display_name": "Python 3 (ipykernel)",
   "language": "python",
   "name": "python3"
  },
  "language_info": {
   "codemirror_mode": {
    "name": "ipython",
    "version": 3
   },
   "file_extension": ".py",
   "mimetype": "text/x-python",
   "name": "python",
   "nbconvert_exporter": "python",
   "pygments_lexer": "ipython3",
   "version": "3.10.12"
  }
 },
 "nbformat": 4,
 "nbformat_minor": 4
}
